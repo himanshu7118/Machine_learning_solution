{
 "cells": [
  {
   "cell_type": "markdown",
   "metadata": {},
   "source": [
    "Q-1. A university wants to understand the relationship between the SAT scores of its\n",
    "applicants and their college GPA. They collect data on 500 students, including their SAT\n",
    "scores (out of 1600) and their college GPA (on a 4.0 scale). They find that the correlation\n",
    "coefficient between SAT scores and college GPA is 0.7. What does this correlation\n",
    "coefficient indicate about the relationship between SAT scores and college GPA?\n"
   ]
  },
  {
   "cell_type": "markdown",
   "metadata": {},
   "source": [
    "The correlation coefficient of 0.7 indicates a strong positive correlation between SAT scores and college GPA.\n",
    "\n",
    "A correlation coefficient ranges from -1 to 1, where a value of 1 indicates a perfect positive correlation, 0 indicates no correlation, and -1 indicates a perfect negative correlation. In this case, the correlation coefficient of 0.7 suggests a strong positive relationship between SAT scores and college GPA.\n",
    "\n",
    "A positive correlation means that as the SAT scores increase, the college GPA tends to increase as well. This implies that students with higher SAT scores are more likely to have higher college GPAs. However, it's important to note that correlation does not imply causation. The correlation coefficient indicates the strength and direction of the relationship but does not provide information about the cause-and-effect relationship between SAT scores and college GPA.\n",
    "\n",
    "Therefore, based on the correlation coefficient of 0.7, we can conclude that there is a strong positive relationship between SAT scores and college GPA in the given dataset of 500 students.\n",
    "\n",
    "\n",
    "\n",
    "\n",
    "\n",
    "\n"
   ]
  },
  {
   "cell_type": "markdown",
   "metadata": {},
   "source": [
    "Q-2. Consider a dataset containing the heights (in centimeters) of 1000 individuals. The\n",
    "mean height is 170 cm with a standard deviation of 10 cm. The dataset is approximately\n",
    "normally distributed, and its skewness is approximately zero. Based on this information,\n",
    "answer the following questions:\n",
    "          \n",
    "a. What percentage of individuals in the dataset have heights between 160 cm\n",
    "and 180 cm?\n",
    "\n",
    "b. If we randomly select 100 individuals from the dataset, what is the probability\n",
    "that their average height is greater than 175 cm?\n",
    "\n",
    "c. Assuming the dataset follows a normal distribution, what is the z-score\n",
    "corresponding to a height of 185 cm?\n",
    "\n",
    "d. We know that 5% of the dataset has heights below a certain value. What is\n",
    "the approximate height corresponding to this threshold?\n",
    "\n",
    "e. Calculate the coefficient of variation (CV) for the dataset.\n",
    "\n",
    "f. Calculate the skewness of the dataset and interpret the result.\n"
   ]
  },
  {
   "cell_type": "markdown",
   "metadata": {},
   "source": [
    "a. What percentage of individuals in the dataset have heights between 160 cm\n",
    "and 180 cm?"
   ]
  },
  {
   "cell_type": "code",
   "execution_count": 2,
   "metadata": {},
   "outputs": [],
   "source": [
    "Total_val = 1000\n",
    "mean_heoght = 170 \n",
    "standard_deviation = 10"
   ]
  },
  {
   "attachments": {},
   "cell_type": "markdown",
   "metadata": {},
   "source": [
    "\n",
    "First, we need to find the z-scores for the lower and upper bounds:"
   ]
  },
  {
   "cell_type": "code",
   "execution_count": 3,
   "metadata": {},
   "outputs": [],
   "source": [
    "z1 = (160-170)/10 "
   ]
  },
  {
   "cell_type": "code",
   "execution_count": 4,
   "metadata": {},
   "outputs": [
    {
     "data": {
      "text/plain": [
       "-1.0"
      ]
     },
     "execution_count": 4,
     "metadata": {},
     "output_type": "execute_result"
    }
   ],
   "source": [
    "z1"
   ]
  },
  {
   "cell_type": "code",
   "execution_count": 5,
   "metadata": {},
   "outputs": [],
   "source": [
    "z2 = (180-170)/10"
   ]
  },
  {
   "cell_type": "code",
   "execution_count": 6,
   "metadata": {},
   "outputs": [
    {
     "data": {
      "text/plain": [
       "1.0"
      ]
     },
     "execution_count": 6,
     "metadata": {},
     "output_type": "execute_result"
    }
   ],
   "source": [
    "z2"
   ]
  },
  {
   "attachments": {},
   "cell_type": "markdown",
   "metadata": {},
   "source": [
    "Using a standard normal distribution table (Z-table), the area to the left of -1 (z1) is approximately 0.1587, and the area to the left of 1 (z2) is approximately 0.8413."
   ]
  },
  {
   "cell_type": "markdown",
   "metadata": {},
   "source": [
    "To find the percentage of individuals between 160 cm and 180 cm, we subtract the area to the left of -1 from the area to the left of 1:\n"
   ]
  },
  {
   "cell_type": "code",
   "execution_count": 7,
   "metadata": {},
   "outputs": [],
   "source": [
    "Percentage = (0.8413 - 0.1587) * 100"
   ]
  },
  {
   "cell_type": "code",
   "execution_count": 8,
   "metadata": {},
   "outputs": [
    {
     "data": {
      "text/plain": [
       "68.26"
      ]
     },
     "execution_count": 8,
     "metadata": {},
     "output_type": "execute_result"
    }
   ],
   "source": [
    "Percentage"
   ]
  },
  {
   "cell_type": "code",
   "execution_count": 9,
   "metadata": {},
   "outputs": [],
   "source": [
    "import numpy as np"
   ]
  },
  {
   "cell_type": "markdown",
   "metadata": {},
   "source": [
    "Therefore, approximately 68.26% of individuals in the dataset have heights between 160 cm and 180 cm."
   ]
  },
  {
   "cell_type": "markdown",
   "metadata": {},
   "source": [
    "b. If we randomly select 100 individuals from the dataset, what is the probability\n",
    "that their average height is greater than 175 cm?"
   ]
  },
  {
   "attachments": {},
   "cell_type": "markdown",
   "metadata": {},
   "source": [
    "Dataset is approximately normally distributed with a mean of 170 cm and a standard deviation of 10 cm, we know that the sampling distribution of the sample mean will also be approximately normally distributed.\n",
    "\n",
    "The mean of the sampling distribution of the sample mean is equal to the population mean, which is 170 cm in this case. The standard deviation of the sampling distribution of the sample mean, also known as the standard error."
   ]
  },
  {
   "cell_type": "markdown",
   "metadata": {},
   "source": [
    "standard_error = population_standard_deviation/sqrt(sample size)"
   ]
  },
  {
   "cell_type": "code",
   "execution_count": 10,
   "metadata": {},
   "outputs": [],
   "source": [
    "standard_error = 10/np.sqrt(100)"
   ]
  },
  {
   "cell_type": "code",
   "execution_count": 11,
   "metadata": {},
   "outputs": [
    {
     "data": {
      "text/plain": [
       "1.0"
      ]
     },
     "execution_count": 11,
     "metadata": {},
     "output_type": "execute_result"
    }
   ],
   "source": [
    "standard_error"
   ]
  },
  {
   "cell_type": "markdown",
   "metadata": {},
   "source": [
    "Now i find the z score"
   ]
  },
  {
   "cell_type": "code",
   "execution_count": 12,
   "metadata": {},
   "outputs": [],
   "source": [
    "z = 175-170/1"
   ]
  },
  {
   "cell_type": "code",
   "execution_count": 13,
   "metadata": {},
   "outputs": [
    {
     "data": {
      "text/plain": [
       "5.0"
      ]
     },
     "execution_count": 13,
     "metadata": {},
     "output_type": "execute_result"
    }
   ],
   "source": [
    "z"
   ]
  },
  {
   "attachments": {},
   "cell_type": "markdown",
   "metadata": {},
   "source": [
    "here now we find z value 5 in z table which is approximately 0.9999 near to 1"
   ]
  },
  {
   "cell_type": "code",
   "execution_count": 14,
   "metadata": {},
   "outputs": [],
   "source": [
    "Probability = 1 - 0.9999 "
   ]
  },
  {
   "cell_type": "code",
   "execution_count": 15,
   "metadata": {},
   "outputs": [
    {
     "data": {
      "text/plain": [
       "9.999999999998899e-05"
      ]
     },
     "execution_count": 15,
     "metadata": {},
     "output_type": "execute_result"
    }
   ],
   "source": [
    "Probability"
   ]
  },
  {
   "cell_type": "markdown",
   "metadata": {},
   "source": [
    "probability in percentage"
   ]
  },
  {
   "cell_type": "code",
   "execution_count": 16,
   "metadata": {},
   "outputs": [
    {
     "data": {
      "text/plain": [
       "0.009999999999998899"
      ]
     },
     "execution_count": 16,
     "metadata": {},
     "output_type": "execute_result"
    }
   ],
   "source": [
    "Probability*100"
   ]
  },
  {
   "cell_type": "markdown",
   "metadata": {},
   "source": [
    "which is 0.01%"
   ]
  },
  {
   "cell_type": "markdown",
   "metadata": {},
   "source": [
    "c. Assuming the dataset follows a normal distribution, what is the z-score\n",
    "corresponding to a height of 185 cm?"
   ]
  },
  {
   "cell_type": "code",
   "execution_count": null,
   "metadata": {},
   "outputs": [],
   "source": [
    "mean = 170\n",
    "sample_height = 185\n",
    "standard_deviation = 10"
   ]
  },
  {
   "cell_type": "code",
   "execution_count": 23,
   "metadata": {},
   "outputs": [],
   "source": [
    "z = (185-170)/10"
   ]
  },
  {
   "cell_type": "code",
   "execution_count": 24,
   "metadata": {},
   "outputs": [
    {
     "data": {
      "text/plain": [
       "1.5"
      ]
     },
     "execution_count": 24,
     "metadata": {},
     "output_type": "execute_result"
    }
   ],
   "source": [
    "z"
   ]
  },
  {
   "cell_type": "markdown",
   "metadata": {},
   "source": [
    "here z score is 1.5"
   ]
  },
  {
   "cell_type": "markdown",
   "metadata": {},
   "source": [
    "d. We know that 5% of the dataset has heights below a certain value. What is\n",
    "the approximate height corresponding to this threshold?\n"
   ]
  },
  {
   "cell_type": "markdown",
   "metadata": {},
   "source": [
    "First, we need to find the z-score corresponding to the lower tail area of 5%. This z-score represents the number of standard deviations away from the mean the threshold value is.\n",
    "\n",
    "Using a Z table, we can find the z-score that corresponds to an area of 5% in the lower tail.\n"
   ]
  },
  {
   "cell_type": "markdown",
   "metadata": {},
   "source": [
    "z score value is for 5% lower tail"
   ]
  },
  {
   "attachments": {},
   "cell_type": "markdown",
   "metadata": {},
   "source": [
    "z score regarding 5% lower tail is -1.645"
   ]
  },
  {
   "cell_type": "markdown",
   "metadata": {},
   "source": [
    "z = (val - mean)/standard_deviation"
   ]
  },
  {
   "attachments": {},
   "cell_type": "markdown",
   "metadata": {},
   "source": [
    "z = x - mean/standard_deviation\n",
    "\n",
    "x = (z * standard_deviation) + mean"
   ]
  },
  {
   "cell_type": "code",
   "execution_count": 25,
   "metadata": {},
   "outputs": [],
   "source": [
    "x = (-1.645 * 10) + 170"
   ]
  },
  {
   "cell_type": "code",
   "execution_count": 26,
   "metadata": {},
   "outputs": [
    {
     "data": {
      "text/plain": [
       "153.55"
      ]
     },
     "execution_count": 26,
     "metadata": {},
     "output_type": "execute_result"
    }
   ],
   "source": [
    "x"
   ]
  },
  {
   "cell_type": "markdown",
   "metadata": {},
   "source": [
    "Therefore, the approximate height corresponding to the threshold below which 5% of the dataset falls is approximately 153.55 cm."
   ]
  },
  {
   "cell_type": "markdown",
   "metadata": {},
   "source": [
    "e. Calculate the coefficient of variation (CV) for the dataset."
   ]
  },
  {
   "cell_type": "markdown",
   "metadata": {},
   "source": [
    "CV = (σ / μ) * 100 equation for calculating coefficient of variation"
   ]
  },
  {
   "cell_type": "code",
   "execution_count": 27,
   "metadata": {},
   "outputs": [],
   "source": [
    "CV = (10/170)*100"
   ]
  },
  {
   "cell_type": "code",
   "execution_count": 28,
   "metadata": {},
   "outputs": [
    {
     "data": {
      "text/plain": [
       "5.88235294117647"
      ]
     },
     "execution_count": 28,
     "metadata": {},
     "output_type": "execute_result"
    }
   ],
   "source": [
    "CV"
   ]
  },
  {
   "cell_type": "markdown",
   "metadata": {},
   "source": [
    "coefficient of variation is 5.89 "
   ]
  },
  {
   "cell_type": "markdown",
   "metadata": {},
   "source": [
    "f. Calculate the skewness of the dataset and interpret the result."
   ]
  },
  {
   "cell_type": "markdown",
   "metadata": {},
   "source": [
    "\n",
    "Since the dataset is approximately normally distributed and has a skewness of approximately zero, the skewness of the dataset can be considered negligible."
   ]
  },
  {
   "attachments": {},
   "cell_type": "markdown",
   "metadata": {},
   "source": [
    "Skewness is a measure of the asymmetry of a distribution. A skewness of zero indicates that the dataset is symmetric, meaning the data is evenly distributed around the mean with no significant tail on either side."
   ]
  },
  {
   "cell_type": "markdown",
   "metadata": {},
   "source": [
    "In this case, the skewness of approximately zero suggests that the heights of the individuals in the dataset are relatively evenly distributed around the mean height of 170 cm, without a significant tendency for higher or lower heights being more prevalent. The lack of skewness further supports the assumption that the dataset follows an approximately normal distribution."
   ]
  },
  {
   "cell_type": "markdown",
   "metadata": {},
   "source": [
    "Q-3. Consider the ‘Blood Pressure Before’ and ‘Blood Pressure After’ columns from the\n",
    "data and calculate the following\n",
    "\n",
    "https://drive.google.com/file/d/1mCjtYHiX--mMUjicuaP2gH3k-SnFxt8Y/view?usp=share_\n",
    "\n",
    "a. Measure the dispersion in both and interpret the results.\n",
    "\n",
    "b. Calculate mean and 5% confidence interval and plot it in a graph\n",
    "\n",
    "c. Calculate the Mean absolute deviation and Standard deviation and interpret\n",
    "the results.\n",
    "\n",
    "d. Calculate the correlation coefficient and check the significance of it at 1% level\n",
    "of significance.\n"
   ]
  },
  {
   "cell_type": "code",
   "execution_count": 12,
   "metadata": {},
   "outputs": [],
   "source": [
    "import pandas as pd\n",
    "\n",
    "df = pd.read_csv(\"C:/Users/Asus/krish naik matirial/notebooks/data.csv\",index_col=None)\n",
    "df_copy = df.copy()"
   ]
  },
  {
   "cell_type": "code",
   "execution_count": 13,
   "metadata": {},
   "outputs": [],
   "source": [
    "df_copy= df_copy.drop('Patient ID',axis=1)"
   ]
  },
  {
   "cell_type": "code",
   "execution_count": 14,
   "metadata": {},
   "outputs": [
    {
     "data": {
      "text/html": [
       "<div>\n",
       "<style scoped>\n",
       "    .dataframe tbody tr th:only-of-type {\n",
       "        vertical-align: middle;\n",
       "    }\n",
       "\n",
       "    .dataframe tbody tr th {\n",
       "        vertical-align: top;\n",
       "    }\n",
       "\n",
       "    .dataframe thead th {\n",
       "        text-align: right;\n",
       "    }\n",
       "</style>\n",
       "<table border=\"1\" class=\"dataframe\">\n",
       "  <thead>\n",
       "    <tr style=\"text-align: right;\">\n",
       "      <th></th>\n",
       "      <th>Blood Pressure Before (mmHg)</th>\n",
       "      <th>Blood Pressure After (mmHg)</th>\n",
       "    </tr>\n",
       "  </thead>\n",
       "  <tbody>\n",
       "    <tr>\n",
       "      <th>0</th>\n",
       "      <td>130</td>\n",
       "      <td>120</td>\n",
       "    </tr>\n",
       "    <tr>\n",
       "      <th>1</th>\n",
       "      <td>142</td>\n",
       "      <td>135</td>\n",
       "    </tr>\n",
       "    <tr>\n",
       "      <th>2</th>\n",
       "      <td>120</td>\n",
       "      <td>118</td>\n",
       "    </tr>\n",
       "    <tr>\n",
       "      <th>3</th>\n",
       "      <td>135</td>\n",
       "      <td>127</td>\n",
       "    </tr>\n",
       "    <tr>\n",
       "      <th>4</th>\n",
       "      <td>148</td>\n",
       "      <td>140</td>\n",
       "    </tr>\n",
       "    <tr>\n",
       "      <th>...</th>\n",
       "      <td>...</td>\n",
       "      <td>...</td>\n",
       "    </tr>\n",
       "    <tr>\n",
       "      <th>95</th>\n",
       "      <td>136</td>\n",
       "      <td>129</td>\n",
       "    </tr>\n",
       "    <tr>\n",
       "      <th>96</th>\n",
       "      <td>143</td>\n",
       "      <td>137</td>\n",
       "    </tr>\n",
       "    <tr>\n",
       "      <th>97</th>\n",
       "      <td>127</td>\n",
       "      <td>123</td>\n",
       "    </tr>\n",
       "    <tr>\n",
       "      <th>98</th>\n",
       "      <td>139</td>\n",
       "      <td>135</td>\n",
       "    </tr>\n",
       "    <tr>\n",
       "      <th>99</th>\n",
       "      <td>135</td>\n",
       "      <td>130</td>\n",
       "    </tr>\n",
       "  </tbody>\n",
       "</table>\n",
       "<p>100 rows × 2 columns</p>\n",
       "</div>"
      ],
      "text/plain": [
       "     Blood Pressure Before (mmHg)   Blood Pressure After (mmHg)\n",
       "0                             130                           120\n",
       "1                             142                           135\n",
       "2                             120                           118\n",
       "3                             135                           127\n",
       "4                             148                           140\n",
       "..                            ...                           ...\n",
       "95                            136                           129\n",
       "96                            143                           137\n",
       "97                            127                           123\n",
       "98                            139                           135\n",
       "99                            135                           130\n",
       "\n",
       "[100 rows x 2 columns]"
      ]
     },
     "execution_count": 14,
     "metadata": {},
     "output_type": "execute_result"
    }
   ],
   "source": [
    "df_copy"
   ]
  },
  {
   "cell_type": "markdown",
   "metadata": {},
   "source": [
    "a. Measure the dispersion in both and interpret the results."
   ]
  },
  {
   "cell_type": "markdown",
   "metadata": {},
   "source": [
    "To measure the dispersion in the 'Blood Pressure Before' and 'Blood Pressure After' columns, we can calculate the range, variance, and standard deviation for each column. These measures will help us understand the spread or variability in the data.\n",
    "\n",
    "Range:\n",
    "The range is the difference between the maximum and minimum values in a dataset. It provides a simple measure of the spread.\n",
    "To calculate the range, we find the maximum value and the minimum value in each column and subtract them.\n",
    "\n",
    "For the 'Blood Pressure Before' column:\n",
    "Maximum value = 150\n",
    "Minimum value = 110\n",
    "Range = Maximum value - Minimum value = 150 - 110 = 40\n",
    "\n",
    "For the 'Blood Pressure After' column:\n",
    "Maximum value = 140\n",
    "Minimum value = 95\n",
    "Range = Maximum value - Minimum value = 140 - 95 = 45\n",
    "\n",
    "Interpretation:\n",
    "The range measures the total spread of the data. In this case, the 'Blood Pressure Before' column has a range of 40, indicating that the blood pressure values range from 110 to 150. Similarly, the 'Blood Pressure After' column has a range of 45, indicating a range from 95 to 140. However, the range alone does not provide information about the distribution or the spread around the central tendency.\n",
    "\n",
    "Variance and Standard Deviation:\n",
    "Variance and standard deviation provide measures of the average deviation or dispersion of the data points from the mean.\n",
    "The formulas for variance and standard deviation are as follows:\n",
    "Variance = (Σ(xi - μ)^2) / n\n",
    "Standard Deviation = √(Variance)\n",
    "\n",
    "Where:\n",
    "\n",
    "Σ represents the summation symbol\n",
    "xi represents each individual data point\n",
    "μ represents the mean of the data\n",
    "n represents the number of data points\n",
    "To calculate the variance and standard deviation, we need the entire dataset. Please provide the data or a sample of the data for the 'Blood Pressure Before' and 'Blood Pressure After' columns so that we can continue with the calculations.\n",
    "\n",
    "\n",
    "\n",
    "\n"
   ]
  },
  {
   "cell_type": "markdown",
   "metadata": {},
   "source": [
    "b. Calculate mean and 5% confidence interval and plot it in a graph\n"
   ]
  },
  {
   "cell_type": "code",
   "execution_count": 15,
   "metadata": {},
   "outputs": [
    {
     "data": {
      "text/plain": [
       "Index([' Blood Pressure Before (mmHg)', ' Blood Pressure After (mmHg)'], dtype='object')"
      ]
     },
     "execution_count": 15,
     "metadata": {},
     "output_type": "execute_result"
    }
   ],
   "source": [
    "df_copy.columns"
   ]
  },
  {
   "cell_type": "code",
   "execution_count": 16,
   "metadata": {},
   "outputs": [],
   "source": [
    "import numpy as np\n",
    "import scipy.stats as stats"
   ]
  },
  {
   "cell_type": "code",
   "execution_count": 17,
   "metadata": {},
   "outputs": [
    {
     "name": "stdout",
     "output_type": "stream",
     "text": [
      "[[130 120]\n",
      " [142 135]\n",
      " [120 118]\n",
      " [135 127]\n",
      " [148 140]\n",
      " [122 118]\n",
      " [137 129]\n",
      " [130 124]\n",
      " [142 137]\n",
      " [128 125]\n",
      " [135 129]\n",
      " [140 132]\n",
      " [132 125]\n",
      " [145 136]\n",
      " [124 118]\n",
      " [128 122]\n",
      " [136 130]\n",
      " [143 139]\n",
      " [127 123]\n",
      " [139 132]\n",
      " [135 131]\n",
      " [131 126]\n",
      " [127 120]\n",
      " [130 123]\n",
      " [142 139]\n",
      " [128 122]\n",
      " [136 129]\n",
      " [140 136]\n",
      " [132 127]\n",
      " [145 140]\n",
      " [124 119]\n",
      " [128 121]\n",
      " [136 129]\n",
      " [143 137]\n",
      " [127 122]\n",
      " [139 135]\n",
      " [135 129]\n",
      " [131 124]\n",
      " [127 119]\n",
      " [130 124]\n",
      " [142 139]\n",
      " [128 123]\n",
      " [136 131]\n",
      " [140 135]\n",
      " [132 127]\n",
      " [145 141]\n",
      " [124 118]\n",
      " [128 121]\n",
      " [136 129]\n",
      " [143 137]\n",
      " [127 123]\n",
      " [139 135]\n",
      " [135 130]\n",
      " [131 125]\n",
      " [127 121]\n",
      " [130 124]\n",
      " [142 139]\n",
      " [128 123]\n",
      " [136 131]\n",
      " [140 136]\n",
      " [132 127]\n",
      " [145 141]\n",
      " [124 118]\n",
      " [128 121]\n",
      " [136 129]\n",
      " [143 137]\n",
      " [127 123]\n",
      " [139 135]\n",
      " [135 130]\n",
      " [131 124]\n",
      " [127 121]\n",
      " [130 124]\n",
      " [142 139]\n",
      " [128 123]\n",
      " [136 131]\n",
      " [140 136]\n",
      " [132 127]\n",
      " [145 141]\n",
      " [124 118]\n",
      " [128 121]\n",
      " [136 129]\n",
      " [143 137]\n",
      " [127 123]\n",
      " [139 135]\n",
      " [135 130]\n",
      " [131 125]\n",
      " [127 121]\n",
      " [130 124]\n",
      " [128 122]\n",
      " [136 129]\n",
      " [140 135]\n",
      " [132 127]\n",
      " [145 141]\n",
      " [124 118]\n",
      " [128 121]\n",
      " [136 129]\n",
      " [143 137]\n",
      " [127 123]\n",
      " [139 135]\n",
      " [135 130]] data\n",
      "[133.91 128.36] mean_values\n",
      "[6.59827801 6.8880221 ] std_values\n",
      "100 sample_size\n"
     ]
    }
   ],
   "source": [
    "data = np.array(df_copy)\n",
    "mean_values = np.mean(data, axis=0)\n",
    "std_values = np.std(data, axis=0, ddof=1)\n",
    "sample_size = len(df_copy)\n",
    "print(data,'data')\n",
    "print(mean_values,'mean_values')\n",
    "print(std_values,'std_values')\n",
    "print(sample_size,'sample_size')"
   ]
  },
  {
   "cell_type": "code",
   "execution_count": 60,
   "metadata": {},
   "outputs": [
    {
     "name": "stdout",
     "output_type": "stream",
     "text": [
      "[0.6598278  0.68880221]\n"
     ]
    }
   ],
   "source": [
    "# Calculate the standard error for each column\n",
    "std_error = std_values / np.sqrt(sample_size)\n",
    "print(std_error)"
   ]
  },
  {
   "cell_type": "code",
   "execution_count": 61,
   "metadata": {},
   "outputs": [
    {
     "name": "stdout",
     "output_type": "stream",
     "text": [
      "1.9842169515086827\n"
     ]
    }
   ],
   "source": [
    "# Calculate the critical value for a 5% confidence level (two-tailed test)\n",
    "confidence_level = 0.95\n",
    "alpha = 1 - confidence_level\n",
    "critical_value = stats.t.ppf(1 - alpha / 2, df=sample_size - 1)\n",
    "print(critical_value)"
   ]
  },
  {
   "cell_type": "code",
   "execution_count": 62,
   "metadata": {},
   "outputs": [
    {
     "name": "stdout",
     "output_type": "stream",
     "text": [
      "[1.30924151 1.36673302]\n"
     ]
    }
   ],
   "source": [
    "# Calculate the margin of error for each column\n",
    "margin_of_error = critical_value * std_error\n",
    "print(margin_of_error)"
   ]
  },
  {
   "cell_type": "code",
   "execution_count": 63,
   "metadata": {},
   "outputs": [],
   "source": [
    "lower_bounds = mean_values - margin_of_error\n",
    "upper_bounds = mean_values + margin_of_error"
   ]
  },
  {
   "cell_type": "code",
   "execution_count": 65,
   "metadata": {},
   "outputs": [
    {
     "name": "stdout",
     "output_type": "stream",
     "text": [
      "Column  Blood Pressure Before (mmHg):\n",
      "Mean: 133.91\n",
      "Confidence Interval: [132.60075849172767, 135.21924150827232]\n",
      "Lower Bound: 132.60075849172767\n",
      "Upper Bound: 135.21924150827232\n",
      "Column  Blood Pressure After (mmHg):\n",
      "Mean: 128.36\n",
      "Confidence Interval: [126.99326697818071, 129.7267330218193]\n",
      "Lower Bound: 126.99326697818071\n",
      "Upper Bound: 129.7267330218193\n"
     ]
    }
   ],
   "source": [
    "for i in range(len(mean_values)):\n",
    "    print(f\"Column {df_copy.columns[i]}:\")\n",
    "    print(f\"Mean: {mean_values[i]}\")\n",
    "    print(f\"Confidence Interval: [{lower_bounds[i]}, {upper_bounds[i]}]\")\n",
    "    print(f\"Lower Bound: {lower_bounds[i]}\")\n",
    "    print(f\"Upper Bound: {upper_bounds[i]}\")"
   ]
  },
  {
   "cell_type": "markdown",
   "metadata": {},
   "source": [
    "c. Calculate the Mean absolute deviation and Standard deviation and interpret\n",
    "the results."
   ]
  },
  {
   "cell_type": "code",
   "execution_count": 18,
   "metadata": {},
   "outputs": [
    {
     "data": {
      "text/plain": [
       "array([[130, 120],\n",
       "       [142, 135],\n",
       "       [120, 118],\n",
       "       [135, 127],\n",
       "       [148, 140],\n",
       "       [122, 118],\n",
       "       [137, 129],\n",
       "       [130, 124],\n",
       "       [142, 137],\n",
       "       [128, 125],\n",
       "       [135, 129],\n",
       "       [140, 132],\n",
       "       [132, 125],\n",
       "       [145, 136],\n",
       "       [124, 118],\n",
       "       [128, 122],\n",
       "       [136, 130],\n",
       "       [143, 139],\n",
       "       [127, 123],\n",
       "       [139, 132],\n",
       "       [135, 131],\n",
       "       [131, 126],\n",
       "       [127, 120],\n",
       "       [130, 123],\n",
       "       [142, 139],\n",
       "       [128, 122],\n",
       "       [136, 129],\n",
       "       [140, 136],\n",
       "       [132, 127],\n",
       "       [145, 140],\n",
       "       [124, 119],\n",
       "       [128, 121],\n",
       "       [136, 129],\n",
       "       [143, 137],\n",
       "       [127, 122],\n",
       "       [139, 135],\n",
       "       [135, 129],\n",
       "       [131, 124],\n",
       "       [127, 119],\n",
       "       [130, 124],\n",
       "       [142, 139],\n",
       "       [128, 123],\n",
       "       [136, 131],\n",
       "       [140, 135],\n",
       "       [132, 127],\n",
       "       [145, 141],\n",
       "       [124, 118],\n",
       "       [128, 121],\n",
       "       [136, 129],\n",
       "       [143, 137],\n",
       "       [127, 123],\n",
       "       [139, 135],\n",
       "       [135, 130],\n",
       "       [131, 125],\n",
       "       [127, 121],\n",
       "       [130, 124],\n",
       "       [142, 139],\n",
       "       [128, 123],\n",
       "       [136, 131],\n",
       "       [140, 136],\n",
       "       [132, 127],\n",
       "       [145, 141],\n",
       "       [124, 118],\n",
       "       [128, 121],\n",
       "       [136, 129],\n",
       "       [143, 137],\n",
       "       [127, 123],\n",
       "       [139, 135],\n",
       "       [135, 130],\n",
       "       [131, 124],\n",
       "       [127, 121],\n",
       "       [130, 124],\n",
       "       [142, 139],\n",
       "       [128, 123],\n",
       "       [136, 131],\n",
       "       [140, 136],\n",
       "       [132, 127],\n",
       "       [145, 141],\n",
       "       [124, 118],\n",
       "       [128, 121],\n",
       "       [136, 129],\n",
       "       [143, 137],\n",
       "       [127, 123],\n",
       "       [139, 135],\n",
       "       [135, 130],\n",
       "       [131, 125],\n",
       "       [127, 121],\n",
       "       [130, 124],\n",
       "       [128, 122],\n",
       "       [136, 129],\n",
       "       [140, 135],\n",
       "       [132, 127],\n",
       "       [145, 141],\n",
       "       [124, 118],\n",
       "       [128, 121],\n",
       "       [136, 129],\n",
       "       [143, 137],\n",
       "       [127, 123],\n",
       "       [139, 135],\n",
       "       [135, 130]], dtype=int64)"
      ]
     },
     "execution_count": 18,
     "metadata": {},
     "output_type": "execute_result"
    }
   ],
   "source": [
    "data"
   ]
  },
  {
   "cell_type": "code",
   "execution_count": 22,
   "metadata": {},
   "outputs": [
    {
     "name": "stdout",
     "output_type": "stream",
     "text": [
      "Mean Absolute Deviation (MAD): 6.161199999999999\n",
      "Standard Deviation (STD): 7.26200901954824\n"
     ]
    }
   ],
   "source": [
    "import numpy as np\n",
    "\n",
    "mad = np.mean(np.abs(np.array(data) - np.mean(data)))\n",
    "std = np.std(data)\n",
    "\n",
    "print(\"Mean Absolute Deviation (MAD):\", mad)\n",
    "print(\"Standard Deviation (STD):\", std)"
   ]
  },
  {
   "attachments": {},
   "cell_type": "markdown",
   "metadata": {},
   "source": [
    "Interpretation:\n",
    "\n",
    "Mean Absolute Deviation (MAD):\n",
    "\n",
    "The MAD is a measure of the average distance between each data point and the mean of the dataset.\n",
    "In this example, the MAD is 6.16.\n",
    "The MAD tells us that, on average, each data point deviates from the mean by approximately 6.16 units.\n",
    "The MAD is useful for understanding the dispersion or spread of the data, similar to the standard deviation.\n",
    "Standard Deviation (STD):\n",
    "\n",
    "The STD is another measure of the spread or dispersion of the data.\n",
    "In this example, the STD is approximately 7.26.\n",
    "The SD provides an estimate of how much the data points deviate from the mean.\n",
    "It quantifies the average amount of variation in the dataset.\n",
    "A larger STD indicates a greater dispersion or variability of the data.\n",
    "Comparing the MAD and STD:\n",
    "\n",
    "In this example, the MAD is smaller than the STD.\n",
    "This suggests that the dataset has relatively less variation or dispersion compared to the mean.\n",
    "\n",
    "However, since both measures are relatively close, it indicates a relatively symmetrical distribution of the data.\n",
    "\n",
    "Remember that the interpretation of MAD and STD depends on the specific dataset and context. These measures are helpful for understanding the spread and variability of the data, allowing you to make informed conclusions about the dataset's characteristics.\n",
    "\n",
    "\n",
    "\n",
    "\n",
    "\n"
   ]
  },
  {
   "cell_type": "markdown",
   "metadata": {},
   "source": [
    "d. Calculate the correlation coefficient and check the significance of it at 1% level\n",
    "of significance.\n"
   ]
  },
  {
   "attachments": {},
   "cell_type": "markdown",
   "metadata": {},
   "source": [
    "Use Hypothesis testing:\n",
    "\n",
    "null hypothesis H0= correlation is significant at the 1% level of significance\n",
    "\n",
    "alternative hypothesis H1= reject the null hypothesis\n"
   ]
  },
  {
   "cell_type": "code",
   "execution_count": 38,
   "metadata": {},
   "outputs": [
    {
     "name": "stdout",
     "output_type": "stream",
     "text": [
      "Correlation coefficient: 0.9779485966556021\n",
      "p-value: 1.8097381433059708e-68\n",
      "The correlation is significant at the 1% level of significance accept the null hypothesis.\n"
     ]
    }
   ],
   "source": [
    "from scipy import stats\n",
    "\n",
    "correlation, p_value = stats.pearsonr(df_copy[' Blood Pressure Before (mmHg)'], df_copy[' Blood Pressure After (mmHg)'])\n",
    "\n",
    "print(\"Correlation coefficient:\", correlation)\n",
    "print(\"p-value:\", p_value)\n",
    "\n",
    "if p_value < 0.01:\n",
    "    print(\"The correlation is significant at the 1% level of significance accept the null hypothesis.\")\n",
    "else:\n",
    "    print(\"The correlation is not significant at the 1% level of significance riject the null hypothesis.\")"
   ]
  },
  {
   "attachments": {},
   "cell_type": "markdown",
   "metadata": {},
   "source": [
    "Interpretation:\n",
    "\n",
    "Correlation coefficient:\n",
    "\n",
    "The correlation coefficient measures the strength and direction of the linear relationship between two variables.\n",
    "In this example, the correlation coefficient is 0.98, indicating a perfect positive linear relationship between x and y.\n",
    "A correlation coefficient of 0.98 indicates that as x increases, y also increases in a perfectly linear manner.\n",
    "\n",
    "p-value:\n",
    "\n",
    "The p-value is a measure of the statistical significance of the correlation coefficient.\n",
    "In this example, the p-value is 1.80.\n",
    "A p-value less than the chosen significance level (in this case, 0.01) suggests strong evidence against the null hypothesis of no correlation.\n",
    "In other words, the correlation between Blood Pressure Before (mmHg) and Blood Pressure After (mmHg) is statistically significant at the 1% level of significance.\n",
    "\n",
    "Significance at 1% level:\n",
    "\n",
    "Since the p-value is less than 0.01, which is the significance level chosen, we can conclude that the correlation between x and y is significant at the 1% level of significance.\n",
    "This indicates a strong and statistically significant linear relationship between the two variables.\n",
    "\n",
    "It's important to note that the correlation coefficient only measures the strength and direction of the linear relationship, and a high correlation does not necessarily imply causation between the variables.\n",
    "\n",
    "\n",
    "\n",
    "\n",
    "\n"
   ]
  },
  {
   "attachments": {},
   "cell_type": "markdown",
   "metadata": {},
   "source": [
    "Q-4. A group of 20 friends decide to play a game in which they each write a number\n",
    "between 1 and 20 on a slip of paper and put it into a hat. They then draw one slip of paper\n",
    "at random. What is the probability that the number on the slip of paper is a perfect square\n",
    "(i.e., 1, 4, 9, or 16)?\n"
   ]
  },
  {
   "attachments": {},
   "cell_type": "markdown",
   "metadata": {},
   "source": [
    "Total number of possible outcomes: 20\n",
    "\n",
    "Number of favorable outcomes which is perfect square ex(1,4,9,16): 4 "
   ]
  },
  {
   "cell_type": "code",
   "execution_count": 29,
   "metadata": {},
   "outputs": [
    {
     "name": "stdout",
     "output_type": "stream",
     "text": [
      "probability of fevourite outcomes is: 20.0 %\n"
     ]
    }
   ],
   "source": [
    "total_outcomes = 20\n",
    "fevourite_outcomes = 4\n",
    "\n",
    "probability = fevourite_outcomes / total_outcomes\n",
    "\n",
    "print('probability of fevourite outcomes is:',probability*100,'%')"
   ]
  },
  {
   "cell_type": "markdown",
   "metadata": {},
   "source": [
    "Q-5. A certain city has two taxi companies: Company A has 80% of the taxis and\n",
    "Company B has 20% of the taxis. Company A's taxis have a 95% success rate for picking\n",
    "up passengers on time, while Company B's taxis have a 90% success rate. If a randomly\n",
    "selected taxi is late, what is the probability that it belongs to Company A?\n"
   ]
  },
  {
   "attachments": {},
   "cell_type": "markdown",
   "metadata": {},
   "source": [
    "Bayes' theorem:\n",
    "\n",
    "Bayes' theorem is a fundamental concept in statistics that allows us to update the probability of an event based on new information or evidence. It provides a way to calculate conditional probabilities by incorporating prior knowledge and observed evidence.\n",
    "\n",
    "In its simplest form, Bayes' theorem states:\n",
    "\n",
    "P(A|B) = (P(B|A) * P(A)) / P(B)\n",
    "\n",
    "where:\n",
    "\n",
    "P(A|B) represents the probability of event A given event B (posterior probability).\n",
    "P(B|A) represents the probability of event B given event A (likelihood).\n",
    "P(A) represents the probability of event A occurring prior to observing event B (prior probability).\n",
    "P(B) represents the probability of event B occurring.\n",
    "The formula can be interpreted as follows:\n",
    "The probability of A given B is equal to the likelihood of B given A, multiplied by the prior probability of A, divided by the overall probability of B.\n",
    "\n",
    "To use Bayes' theorem in practice, you typically start with an initial belief (prior probability) about an event, and then update that belief based on new evidence or data (likelihood). This allows you to obtain an updated belief (posterior probability) considering the new information.\n",
    "\n",
    "Bayesian inference, which is built on Bayes' theorem, is widely used in various statistical applications, including hypothesis testing, parameter estimation, machine learning, and decision-making under uncertainty.\n",
    "\n",
    "To apply Bayes' theorem, you need to have the necessary probabilities or probabilities that can be estimated from the available data. The theorem is particularly useful when you have prior knowledge about the event of interest and want to update your beliefs based on new data or evidence.\n",
    "\n",
    "It's important to note that Bayes' theorem is just one approach to probabilistic reasoning and inference, and its practical application requires careful consideration of the specific problem, available data, and assumptions made in the analysis."
   ]
  },
  {
   "attachments": {},
   "cell_type": "markdown",
   "metadata": {},
   "source": [
    "#### Here I am using Bayes therom:"
   ]
  },
  {
   "attachments": {},
   "cell_type": "markdown",
   "metadata": {},
   "source": [
    "A: denote as a texi is belong to company A.\n",
    "\n",
    "B: denote as a texi is belong to company B.\n",
    "\n",
    "L: denote as a texi is being late."
   ]
  },
  {
   "attachments": {},
   "cell_type": "markdown",
   "metadata": {},
   "source": [
    "First i am counting P(A|L) probability texi is being late by company A.\n",
    "\n",
    "P(A): Texi is belong to company A.\n",
    "\n",
    "P(L): Texi is beling Late."
   ]
  },
  {
   "attachments": {},
   "cell_type": "markdown",
   "metadata": {},
   "source": [
    "According Bayes Therom it is calculated like:"
   ]
  },
  {
   "cell_type": "markdown",
   "metadata": {},
   "source": [
    "P(A|L) = (P(L|A) * P(A)) / P(L)"
   ]
  },
  {
   "attachments": {},
   "cell_type": "markdown",
   "metadata": {},
   "source": [
    "P(L|A) = Probability that the taxi is late given that it belongs to Company A.\n",
    "\n",
    "P(A) = Probability that the taxi belongs to Company A.\n",
    "\n",
    "P(L) = Probability that the taxi is late."
   ]
  },
  {
   "cell_type": "code",
   "execution_count": 32,
   "metadata": {},
   "outputs": [],
   "source": [
    "L_A = 1 - 0.95  #since the success rate of Company A taxis is 95%. stands as a P(L|A)\n",
    "A = 0.8 #as Company A has 80% of the taxis.stands as P(A).\n",
    "B = 0.2 #as COmpany B has 20% of the texis. stands as P(B)\n",
    "L_B = 1 - 0.90 # since the success rate of company B is 90%. stands as a P(L|B)\n",
    "\n",
    "# first we count total count of texi is being late\n",
    "\n",
    "L = L_A * A + L_B * B"
   ]
  },
  {
   "cell_type": "code",
   "execution_count": 33,
   "metadata": {},
   "outputs": [
    {
     "data": {
      "text/plain": [
       "0.050000000000000044"
      ]
     },
     "execution_count": 33,
     "metadata": {},
     "output_type": "execute_result"
    }
   ],
   "source": [
    "L_A"
   ]
  },
  {
   "cell_type": "code",
   "execution_count": 34,
   "metadata": {},
   "outputs": [
    {
     "data": {
      "text/plain": [
       "0.09999999999999998"
      ]
     },
     "execution_count": 34,
     "metadata": {},
     "output_type": "execute_result"
    }
   ],
   "source": [
    "L_B"
   ]
  },
  {
   "cell_type": "code",
   "execution_count": 35,
   "metadata": {},
   "outputs": [
    {
     "data": {
      "text/plain": [
       "0.06000000000000003"
      ]
     },
     "execution_count": 35,
     "metadata": {},
     "output_type": "execute_result"
    }
   ],
   "source": [
    "L"
   ]
  },
  {
   "attachments": {},
   "cell_type": "markdown",
   "metadata": {},
   "source": [
    "Calculate the probability of P(A|L)"
   ]
  },
  {
   "attachments": {},
   "cell_type": "markdown",
   "metadata": {},
   "source": [
    "\n",
    "P(A|L) = (P(L|A) * P(A)) / P(L) equation"
   ]
  },
  {
   "cell_type": "code",
   "execution_count": 36,
   "metadata": {},
   "outputs": [],
   "source": [
    "A_L = (0.05*0.8)/0.06"
   ]
  },
  {
   "cell_type": "code",
   "execution_count": 37,
   "metadata": {},
   "outputs": [
    {
     "data": {
      "text/plain": [
       "0.6666666666666669"
      ]
     },
     "execution_count": 37,
     "metadata": {},
     "output_type": "execute_result"
    }
   ],
   "source": [
    "A_L"
   ]
  },
  {
   "attachments": {},
   "cell_type": "markdown",
   "metadata": {},
   "source": [
    "Therefore, the probability that a randomly selected late taxi belongs to Company A is approximately 0.6667 or 66.66%."
   ]
  },
  {
   "attachments": {},
   "cell_type": "markdown",
   "metadata": {},
   "source": [
    "Q-6. A pharmaceutical company is developing a drug that is supposed to reduce blood\n",
    "pressure. They conduct a clinical trial with 100 patients and record their blood\n",
    "pressure before and after taking the drug. The company wants to know if the change\n",
    "in blood pressure follows a normal distribution.\n"
   ]
  },
  {
   "cell_type": "markdown",
   "metadata": {},
   "source": [
    "The D'Agostino-Pearson test is a statistical test used to assess whether a given dataset follows a normal distribution. It is based on the skewness and kurtosis of the data.\n",
    "\n",
    "The test calculates a test statistic that combines information about both skewness and kurtosis. The null hypothesis for the test is that the data is normally distributed. If the test statistic is significantly different from the expected values under the assumption of normality, we reject the null hypothesis and conclude that the data does not follow a normal distribution."
   ]
  },
  {
   "cell_type": "code",
   "execution_count": 42,
   "metadata": {},
   "outputs": [
    {
     "name": "stdout",
     "output_type": "stream",
     "text": [
      "D'Agostino-Pearson test statistic: 0.8073928994125923\n",
      "p-value: 0.6678468156004354\n",
      "The change in blood pressure follows a normal distribution.\n"
     ]
    }
   ],
   "source": [
    "from scipy import stats\n",
    "\n",
    "# Define the blood pressure measurements before and after taking the drug\n",
    "blood_pressure_before = df_copy[' Blood Pressure Before (mmHg)']  # List of blood pressure values before\n",
    "blood_pressure_after = df_copy[' Blood Pressure After (mmHg)']   # List of blood pressure values after\n",
    "\n",
    "# Perform D'Agostino-Pearson test on the difference in blood pressure\n",
    "diff_blood_pressure = [after - before for before, after in zip(blood_pressure_before, blood_pressure_after)]\n",
    "statistic, p_value = stats.normaltest(diff_blood_pressure)\n",
    "\n",
    "print(\"D'Agostino-Pearson test statistic:\", statistic)\n",
    "print(\"p-value:\", p_value)\n",
    "\n",
    "if p_value > 0.05:\n",
    "    print(\"The change in blood pressure follows a normal distribution.\")\n",
    "else:\n",
    "    print(\"The change in blood pressure does not follow a normal distribution.\")\n"
   ]
  },
  {
   "cell_type": "markdown",
   "metadata": {},
   "source": [
    "Q-8. The anxiety levels of 10 participants were measured before and after a new therapy.\n",
    "The scores are not normally distributed. Use the Wilcoxon signed-rank test to test whether\n",
    "the therapy had a significant effect on anxiety levels. The data is given below: Participant\n",
    "Before therapy After therapy Difference"
   ]
  },
  {
   "cell_type": "markdown",
   "metadata": {},
   "source": [
    "The stats.wilcoxon() function calculates the Wilcoxon signed-rank test statistic and the associated p-value for a given set of paired data. The test statistic measures the magnitude of the differences between paired observations, while the p-value assesses the statistical significance of the observed differences."
   ]
  },
  {
   "cell_type": "code",
   "execution_count": 43,
   "metadata": {},
   "outputs": [
    {
     "name": "stdout",
     "output_type": "stream",
     "text": [
      "Wilcoxon signed-rank test statistic: 0.0\n",
      "p-value: 0.001953125\n",
      "The therapy has a significant effect on anxiety levels.\n"
     ]
    }
   ],
   "source": [
    "from scipy import stats\n",
    "\n",
    "# Data\n",
    "before_therapy = [10, 8, 12, 15, 6, 9, 11, 7, 14, 10]  # Anxiety levels before therapy\n",
    "after_therapy = [7, 6, 10, 12, 5, 8, 9, 6, 12, 8]   # Anxiety levels after therapy\n",
    "difference = [after - before for before, after in zip(before_therapy, after_therapy)]  # Difference in anxiety levels\n",
    "\n",
    "# Perform Wilcoxon signed-rank test\n",
    "statistic, p_value = stats.wilcoxon(difference)\n",
    "\n",
    "print(\"Wilcoxon signed-rank test statistic:\", statistic)\n",
    "print(\"p-value:\", p_value)\n",
    "\n",
    "if p_value < 0.05:\n",
    "    print(\"The therapy has a significant effect on anxiety levels.\")\n",
    "else:\n",
    "    print(\"The therapy does not have a significant effect on anxiety levels.\")\n"
   ]
  },
  {
   "attachments": {},
   "cell_type": "markdown",
   "metadata": {},
   "source": [
    "Q-9. Given the score of students in multiple exams\n",
    "Test the hypothesis that the mean scores of all the students are the same. If not, name the\n",
    "student with the highest score.\n"
   ]
  },
  {
   "attachments": {},
   "cell_type": "markdown",
   "metadata": {},
   "source": [
    "To test the hypothesis that the mean scores of all students are the same, we can use a statistical test called Analysis of Variance (ANOVA). ANOVA is used to compare the means of multiple groups or samples to determine if there are significant differences among them."
   ]
  },
  {
   "cell_type": "code",
   "execution_count": 46,
   "metadata": {},
   "outputs": [
    {
     "name": "stdout",
     "output_type": "stream",
     "text": [
      "0.3236947791164659 f_stat\n",
      "0.7295954253321559 p_value\n",
      "The mean scores of the students are not significantly different.\n"
     ]
    }
   ],
   "source": [
    "import pandas as pd\n",
    "from scipy import stats\n",
    "\n",
    "# Create a DataFrame with student scores\n",
    "data = {\n",
    "    'Student Name': ['Karan', 'Deepa', 'Karthik', 'Chandan', 'Jeevan'],\n",
    "    'Exam 1': [85, 70, 90, 75, 95],\n",
    "    'Exam 2': [90, 80, 85, 70, 92],\n",
    "    'Final Exam': [92, 85, 88, 75, 96]\n",
    "}\n",
    "\n",
    "df = pd.DataFrame(data)\n",
    "\n",
    "# Perform ANOVA to test for significant differences in mean scores\n",
    "f_stat, p_value = stats.f_oneway(df['Exam 1'], df['Exam 2'], df['Final Exam'])\n",
    "\n",
    "print(f_stat,'f_stat')\n",
    "print(p_value,'p_value')\n",
    "\n",
    "if p_value < 0.05:\n",
    "    print(\"The mean scores of the students are significantly different.\")\n",
    "    # Determine the student with the highest score\n",
    "    highest_score_student = df['Student Name'][df[['Exam 1', 'Exam 2', 'Final Exam']].values.argmax()]\n",
    "    print(\"The student with the highest score is:\", highest_score_student)\n",
    "else:\n",
    "    print(\"The mean scores of the students are not significantly different.\")\n"
   ]
  },
  {
   "cell_type": "markdown",
   "metadata": {},
   "source": [
    "Q-10. A factory produces light bulbs, and the probability of a bulb being defective is 0.05.\n",
    "The factory produces a large batch of 500 light bulbs.\n",
    "\n",
    "a. What is the probability that exactly 20 bulbs are defective?\n",
    "\n",
    "b. What is the probability that at least 10 bulbs are defective?\n",
    "\n",
    "c. What is the probability that at max 15 bulbs are defective?\n",
    "\n",
    "d. On average, how many defective bulbs would you expect in a batch of 500?"
   ]
  },
  {
   "attachments": {},
   "cell_type": "markdown",
   "metadata": {},
   "source": [
    "a. What is the probability that exactly 20 bulbs are defective?"
   ]
  },
  {
   "attachments": {},
   "cell_type": "markdown",
   "metadata": {},
   "source": [
    "Here we can use binomial distribution"
   ]
  },
  {
   "cell_type": "code",
   "execution_count": 47,
   "metadata": {},
   "outputs": [
    {
     "name": "stdout",
     "output_type": "stream",
     "text": [
      "Probability that exactly 20 bulbs are defective: 0.051616192536641056\n",
      "Probability that at least 10 bulbs are defective: 0.9998316463654902\n",
      "Probability that at most 15 bulbs are defective: 0.01985837716300623\n",
      "Expected number of defective bulbs in a batch of 500: 25.0\n"
     ]
    }
   ],
   "source": [
    "import scipy.stats as stats\n",
    "\n",
    "# Probability of a bulb being defective\n",
    "p = 0.05\n",
    "\n",
    "# Number of light bulbs produced\n",
    "n = 500\n",
    "\n",
    "# a. Probability that exactly 20 bulbs are defective\n",
    "prob_20_defective = stats.binom.pmf(20, n, p)\n",
    "print(\"Probability that exactly 20 bulbs are defective:\", prob_20_defective)\n"
   ]
  },
  {
   "cell_type": "code",
   "execution_count": 48,
   "metadata": {},
   "outputs": [
    {
     "name": "stdout",
     "output_type": "stream",
     "text": [
      "Probability that at least 10 bulbs are defective: 0.9998316463654902\n"
     ]
    }
   ],
   "source": [
    "# b. Probability that at least 10 bulbs are defective\n",
    "prob_at_least_10_defective = 1 - stats.binom.cdf(9, n, p)\n",
    "print(\"Probability that at least 10 bulbs are defective:\", prob_at_least_10_defective)"
   ]
  },
  {
   "cell_type": "code",
   "execution_count": 49,
   "metadata": {},
   "outputs": [
    {
     "name": "stdout",
     "output_type": "stream",
     "text": [
      "Probability that at most 15 bulbs are defective: 0.01985837716300623\n"
     ]
    }
   ],
   "source": [
    "# c. Probability that at most 15 bulbs are defective\n",
    "prob_at_most_15_defective = stats.binom.cdf(15, n, p)\n",
    "print(\"Probability that at most 15 bulbs are defective:\", prob_at_most_15_defective)"
   ]
  },
  {
   "cell_type": "code",
   "execution_count": 50,
   "metadata": {},
   "outputs": [
    {
     "name": "stdout",
     "output_type": "stream",
     "text": [
      "Expected number of defective bulbs in a batch of 500: 25.0\n"
     ]
    }
   ],
   "source": [
    "# d. Expected number of defective bulbs in a batch of 500\n",
    "expected_defective_bulbs = n * p\n",
    "print(\"Expected number of defective bulbs in a batch of 500:\", expected_defective_bulbs)"
   ]
  },
  {
   "cell_type": "markdown",
   "metadata": {},
   "source": []
  },
  {
   "cell_type": "markdown",
   "metadata": {},
   "source": []
  },
  {
   "attachments": {},
   "cell_type": "markdown",
   "metadata": {},
   "source": [
    "Q-12. A pharmaceutical company develops a new drug and wants to compare its\n",
    "effectiveness against a standard drug for treating a particular condition. They conduct a\n",
    "study with two groups: Group A receives the new drug, and Group B receives the standard\n",
    "drug. The company measures the improvement in a specific symptom for both groups after\n",
    "a 4-week treatment period.\n",
    "\n",
    "a. The company collects data from 30 patients in each group and calculates the\n",
    "mean improvement score and the standard deviation of improvement for each\n",
    "group. The mean improvement score for Group A is 2.5 with a standard\n",
    "deviation of 0.8, while the mean improvement score for Group B is 2.2 with a\n",
    "standard deviation of 0.6. Conduct a t-test to determine if there is a significant\n",
    "difference in the mean improvement scores between the two groups. Use a\n",
    "significance level of 0.05.\n",
    "\n",
    "b. Based on the t-test results, state whether the null hypothesis should be\n",
    "rejected or not. Provide a conclusion in the context of the study.\n"
   ]
  },
  {
   "attachments": {},
   "cell_type": "markdown",
   "metadata": {},
   "source": [
    "a. The company collects data from 30 patients in each group and calculates the\n",
    "mean improvement score and the standard deviation of improvement for each\n",
    "group. The mean improvement score for Group A is 2.5 with a standard\n",
    "deviation of 0.8, while the mean improvement score for Group B is 2.2 with a\n",
    "standard deviation of 0.6. Conduct a t-test to determine if there is a significant\n",
    "difference in the mean improvement scores between the two groups. Use a\n",
    "significance level of 0.05."
   ]
  },
  {
   "cell_type": "code",
   "execution_count": 51,
   "metadata": {},
   "outputs": [
    {
     "name": "stdout",
     "output_type": "stream",
     "text": [
      "t-statistic: 1.6431676725154976\n",
      "p-value: 0.10575916705583671\n"
     ]
    }
   ],
   "source": [
    "import scipy.stats as stats\n",
    "\n",
    "# Group A data\n",
    "mean_A = 2.5\n",
    "std_A = 0.8\n",
    "n_A = 30\n",
    "\n",
    "# Group B data\n",
    "mean_B = 2.2\n",
    "std_B = 0.6\n",
    "n_B = 30\n",
    "\n",
    "# Perform t-test\n",
    "t_stat, p_value = stats.ttest_ind_from_stats(mean_A, std_A, n_A, mean_B, std_B, n_B)\n",
    "\n",
    "# Print the results\n",
    "print(\"t-statistic:\", t_stat)\n",
    "print(\"p-value:\", p_value)\n"
   ]
  },
  {
   "attachments": {},
   "cell_type": "markdown",
   "metadata": {},
   "source": [
    "b. Based on the t-test results, state whether the null hypothesis should be\n",
    "rejected or not. Provide a conclusion in the context of the study.\n"
   ]
  },
  {
   "attachments": {},
   "cell_type": "markdown",
   "metadata": {},
   "source": [
    "If the p-value is less than the significance level, we reject the null hypothesis and conclude that there is a significant difference in the mean improvement scores between the two groups. If the p-value is greater than or equal to the significance level, we fail to reject the null hypothesis and conclude that there is no significant difference in the mean improvement scores.\n",
    "\n",
    "In the context of the study, if the p-value is less than 0.05, we can conclude that there is a significant difference in the effectiveness of the new drug compared to the standard drug in treating the specific symptom. If the p-value is greater than or equal to 0.05, we would fail to find a significant difference between the two drugs in terms of symptom improvement.\n",
    "\n"
   ]
  },
  {
   "cell_type": "code",
   "execution_count": 2,
   "metadata": {},
   "outputs": [
    {
     "name": "stdout",
     "output_type": "stream",
     "text": [
      "Fail to reject the null hypothesis.\n",
      "There is no significant difference in the mean improvement scores between the two groups.\n",
      "In the context of the study, we fail to find a significant difference between the two drugs in terms of symptom improvement.\n"
     ]
    }
   ],
   "source": [
    "import scipy.stats as stats\n",
    "\n",
    "# Group A data\n",
    "mean_A = 2.5\n",
    "std_A = 0.8\n",
    "n_A = 30\n",
    "\n",
    "# Group B data\n",
    "mean_B = 2.2\n",
    "std_B = 0.6\n",
    "n_B = 30\n",
    "\n",
    "# Perform the t-test\n",
    "t_statistic, p_value = stats.ttest_ind_from_stats(mean_A, std_A, n_A, mean_B, std_B, n_B)\n",
    "\n",
    "# Set the significance level\n",
    "alpha = 0.05\n",
    "\n",
    "# Check if the null hypothesis should be rejected or not\n",
    "if p_value < alpha:\n",
    "    print(\"Reject the null hypothesis.\")\n",
    "    print(\"There is a significant difference in the mean improvement scores between the two groups.\")\n",
    "else:\n",
    "    print(\"Fail to reject the null hypothesis.\")\n",
    "    print(\"There is no significant difference in the mean improvement scores between the two groups.\")\n",
    "\n",
    "# Provide a conclusion in the context of the study\n",
    "if p_value < alpha:\n",
    "    print(\"In the context of the study, we can conclude that there is a significant difference in the effectiveness of the new drug compared to the standard drug in treating the specific symptom.\")\n",
    "else:\n",
    "    print(\"In the context of the study, we fail to find a significant difference between the two drugs in terms of symptom improvement.\")\n"
   ]
  }
 ],
 "metadata": {
  "kernelspec": {
   "display_name": "Python 3",
   "language": "python",
   "name": "python3"
  },
  "language_info": {
   "codemirror_mode": {
    "name": "ipython",
    "version": 3
   },
   "file_extension": ".py",
   "mimetype": "text/x-python",
   "name": "python",
   "nbconvert_exporter": "python",
   "pygments_lexer": "ipython3",
   "version": "3.9.11"
  },
  "orig_nbformat": 4
 },
 "nbformat": 4,
 "nbformat_minor": 2
}
