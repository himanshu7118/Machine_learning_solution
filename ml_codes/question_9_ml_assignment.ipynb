{
 "cells": [
  {
   "attachments": {},
   "cell_type": "markdown",
   "metadata": {},
   "source": [
    "Q-9. A cyber security agent wants to check the Microsoft Malware so need he came\n",
    "to you as a Machine learning Engineering with Data, You need to find the Malware\n",
    "using a supervised algorithm and you need to find the accuracy of the model.\n",
    "Dataset This is the Dataset You can use this dataset for this question.\n",
    "1. An Ad- Agency analyzed a dataset of online ads and used a machine learning\n",
    "model to predict whether a user would click on an ad or not.\n",
    "Dataset This is the Dataset You can use this dataset for this question"
   ]
  },
  {
   "cell_type": "code",
   "execution_count": null,
   "metadata": {
    "vscode": {
     "languageId": "plaintext"
    }
   },
   "outputs": [],
   "source": []
  },
  {
   "cell_type": "code",
   "execution_count": null,
   "metadata": {
    "vscode": {
     "languageId": "plaintext"
    }
   },
   "outputs": [],
   "source": []
  },
  {
   "cell_type": "code",
   "execution_count": null,
   "metadata": {
    "vscode": {
     "languageId": "plaintext"
    }
   },
   "outputs": [],
   "source": []
  }
 ],
 "metadata": {
  "language_info": {
   "name": "python"
  },
  "orig_nbformat": 4
 },
 "nbformat": 4,
 "nbformat_minor": 2
}
