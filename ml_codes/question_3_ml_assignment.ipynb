{
 "cells": [
  {
   "cell_type": "code",
   "execution_count": 1,
   "metadata": {},
   "outputs": [],
   "source": [
    "import pandas as pd\n",
    "import numpy as np\n",
    "import matplotlib.pyplot as plt\n",
    "import seaborn as sns\n",
    "sns.set(rc={\"figure.figsize\":(30,15)})\n",
    "pd.pandas.set_option(\"display.max_columns\",None)"
   ]
  },
  {
   "cell_type": "code",
   "execution_count": 2,
   "metadata": {},
   "outputs": [],
   "source": [
    "df = pd.read_json(\"D:/ml_assignment_code/ml_assignment_code/data/News_Category_Dataset_v3.json\", lines=True)\n",
    "df_copy = df.copy()"
   ]
  },
  {
   "cell_type": "code",
   "execution_count": 3,
   "metadata": {},
   "outputs": [
    {
     "data": {
      "text/html": [
       "<div>\n",
       "<style scoped>\n",
       "    .dataframe tbody tr th:only-of-type {\n",
       "        vertical-align: middle;\n",
       "    }\n",
       "\n",
       "    .dataframe tbody tr th {\n",
       "        vertical-align: top;\n",
       "    }\n",
       "\n",
       "    .dataframe thead th {\n",
       "        text-align: right;\n",
       "    }\n",
       "</style>\n",
       "<table border=\"1\" class=\"dataframe\">\n",
       "  <thead>\n",
       "    <tr style=\"text-align: right;\">\n",
       "      <th></th>\n",
       "      <th>link</th>\n",
       "      <th>headline</th>\n",
       "      <th>category</th>\n",
       "      <th>short_description</th>\n",
       "      <th>authors</th>\n",
       "      <th>date</th>\n",
       "    </tr>\n",
       "  </thead>\n",
       "  <tbody>\n",
       "    <tr>\n",
       "      <th>0</th>\n",
       "      <td>https://www.huffpost.com/entry/covid-boosters-...</td>\n",
       "      <td>Over 4 Million Americans Roll Up Sleeves For O...</td>\n",
       "      <td>U.S. NEWS</td>\n",
       "      <td>Health experts said it is too early to predict...</td>\n",
       "      <td>Carla K. Johnson, AP</td>\n",
       "      <td>2022-09-23</td>\n",
       "    </tr>\n",
       "    <tr>\n",
       "      <th>1</th>\n",
       "      <td>https://www.huffpost.com/entry/american-airlin...</td>\n",
       "      <td>American Airlines Flyer Charged, Banned For Li...</td>\n",
       "      <td>U.S. NEWS</td>\n",
       "      <td>He was subdued by passengers and crew when he ...</td>\n",
       "      <td>Mary Papenfuss</td>\n",
       "      <td>2022-09-23</td>\n",
       "    </tr>\n",
       "    <tr>\n",
       "      <th>2</th>\n",
       "      <td>https://www.huffpost.com/entry/funniest-tweets...</td>\n",
       "      <td>23 Of The Funniest Tweets About Cats And Dogs ...</td>\n",
       "      <td>COMEDY</td>\n",
       "      <td>\"Until you have a dog you don't understand wha...</td>\n",
       "      <td>Elyse Wanshel</td>\n",
       "      <td>2022-09-23</td>\n",
       "    </tr>\n",
       "    <tr>\n",
       "      <th>3</th>\n",
       "      <td>https://www.huffpost.com/entry/funniest-parent...</td>\n",
       "      <td>The Funniest Tweets From Parents This Week (Se...</td>\n",
       "      <td>PARENTING</td>\n",
       "      <td>\"Accidentally put grown-up toothpaste on my to...</td>\n",
       "      <td>Caroline Bologna</td>\n",
       "      <td>2022-09-23</td>\n",
       "    </tr>\n",
       "    <tr>\n",
       "      <th>4</th>\n",
       "      <td>https://www.huffpost.com/entry/amy-cooper-lose...</td>\n",
       "      <td>Woman Who Called Cops On Black Bird-Watcher Lo...</td>\n",
       "      <td>U.S. NEWS</td>\n",
       "      <td>Amy Cooper accused investment firm Franklin Te...</td>\n",
       "      <td>Nina Golgowski</td>\n",
       "      <td>2022-09-22</td>\n",
       "    </tr>\n",
       "    <tr>\n",
       "      <th>...</th>\n",
       "      <td>...</td>\n",
       "      <td>...</td>\n",
       "      <td>...</td>\n",
       "      <td>...</td>\n",
       "      <td>...</td>\n",
       "      <td>...</td>\n",
       "    </tr>\n",
       "    <tr>\n",
       "      <th>209522</th>\n",
       "      <td>https://www.huffingtonpost.com/entry/rim-ceo-t...</td>\n",
       "      <td>RIM CEO Thorsten Heins' 'Significant' Plans Fo...</td>\n",
       "      <td>TECH</td>\n",
       "      <td>Verizon Wireless and AT&amp;T are already promotin...</td>\n",
       "      <td>Reuters, Reuters</td>\n",
       "      <td>2012-01-28</td>\n",
       "    </tr>\n",
       "    <tr>\n",
       "      <th>209523</th>\n",
       "      <td>https://www.huffingtonpost.com/entry/maria-sha...</td>\n",
       "      <td>Maria Sharapova Stunned By Victoria Azarenka I...</td>\n",
       "      <td>SPORTS</td>\n",
       "      <td>Afterward, Azarenka, more effusive with the pr...</td>\n",
       "      <td></td>\n",
       "      <td>2012-01-28</td>\n",
       "    </tr>\n",
       "    <tr>\n",
       "      <th>209524</th>\n",
       "      <td>https://www.huffingtonpost.com/entry/super-bow...</td>\n",
       "      <td>Giants Over Patriots, Jets Over Colts Among  M...</td>\n",
       "      <td>SPORTS</td>\n",
       "      <td>Leading up to Super Bowl XLVI, the most talked...</td>\n",
       "      <td></td>\n",
       "      <td>2012-01-28</td>\n",
       "    </tr>\n",
       "    <tr>\n",
       "      <th>209525</th>\n",
       "      <td>https://www.huffingtonpost.com/entry/aldon-smi...</td>\n",
       "      <td>Aldon Smith Arrested: 49ers Linebacker Busted ...</td>\n",
       "      <td>SPORTS</td>\n",
       "      <td>CORRECTION: An earlier version of this story i...</td>\n",
       "      <td></td>\n",
       "      <td>2012-01-28</td>\n",
       "    </tr>\n",
       "    <tr>\n",
       "      <th>209526</th>\n",
       "      <td>https://www.huffingtonpost.com/entry/dwight-ho...</td>\n",
       "      <td>Dwight Howard Rips Teammates After Magic Loss ...</td>\n",
       "      <td>SPORTS</td>\n",
       "      <td>The five-time all-star center tore into his te...</td>\n",
       "      <td></td>\n",
       "      <td>2012-01-28</td>\n",
       "    </tr>\n",
       "  </tbody>\n",
       "</table>\n",
       "<p>209527 rows × 6 columns</p>\n",
       "</div>"
      ],
      "text/plain": [
       "                                                     link  \\\n",
       "0       https://www.huffpost.com/entry/covid-boosters-...   \n",
       "1       https://www.huffpost.com/entry/american-airlin...   \n",
       "2       https://www.huffpost.com/entry/funniest-tweets...   \n",
       "3       https://www.huffpost.com/entry/funniest-parent...   \n",
       "4       https://www.huffpost.com/entry/amy-cooper-lose...   \n",
       "...                                                   ...   \n",
       "209522  https://www.huffingtonpost.com/entry/rim-ceo-t...   \n",
       "209523  https://www.huffingtonpost.com/entry/maria-sha...   \n",
       "209524  https://www.huffingtonpost.com/entry/super-bow...   \n",
       "209525  https://www.huffingtonpost.com/entry/aldon-smi...   \n",
       "209526  https://www.huffingtonpost.com/entry/dwight-ho...   \n",
       "\n",
       "                                                 headline   category  \\\n",
       "0       Over 4 Million Americans Roll Up Sleeves For O...  U.S. NEWS   \n",
       "1       American Airlines Flyer Charged, Banned For Li...  U.S. NEWS   \n",
       "2       23 Of The Funniest Tweets About Cats And Dogs ...     COMEDY   \n",
       "3       The Funniest Tweets From Parents This Week (Se...  PARENTING   \n",
       "4       Woman Who Called Cops On Black Bird-Watcher Lo...  U.S. NEWS   \n",
       "...                                                   ...        ...   \n",
       "209522  RIM CEO Thorsten Heins' 'Significant' Plans Fo...       TECH   \n",
       "209523  Maria Sharapova Stunned By Victoria Azarenka I...     SPORTS   \n",
       "209524  Giants Over Patriots, Jets Over Colts Among  M...     SPORTS   \n",
       "209525  Aldon Smith Arrested: 49ers Linebacker Busted ...     SPORTS   \n",
       "209526  Dwight Howard Rips Teammates After Magic Loss ...     SPORTS   \n",
       "\n",
       "                                        short_description  \\\n",
       "0       Health experts said it is too early to predict...   \n",
       "1       He was subdued by passengers and crew when he ...   \n",
       "2       \"Until you have a dog you don't understand wha...   \n",
       "3       \"Accidentally put grown-up toothpaste on my to...   \n",
       "4       Amy Cooper accused investment firm Franklin Te...   \n",
       "...                                                   ...   \n",
       "209522  Verizon Wireless and AT&T are already promotin...   \n",
       "209523  Afterward, Azarenka, more effusive with the pr...   \n",
       "209524  Leading up to Super Bowl XLVI, the most talked...   \n",
       "209525  CORRECTION: An earlier version of this story i...   \n",
       "209526  The five-time all-star center tore into his te...   \n",
       "\n",
       "                     authors       date  \n",
       "0       Carla K. Johnson, AP 2022-09-23  \n",
       "1             Mary Papenfuss 2022-09-23  \n",
       "2              Elyse Wanshel 2022-09-23  \n",
       "3           Caroline Bologna 2022-09-23  \n",
       "4             Nina Golgowski 2022-09-22  \n",
       "...                      ...        ...  \n",
       "209522      Reuters, Reuters 2012-01-28  \n",
       "209523                       2012-01-28  \n",
       "209524                       2012-01-28  \n",
       "209525                       2012-01-28  \n",
       "209526                       2012-01-28  \n",
       "\n",
       "[209527 rows x 6 columns]"
      ]
     },
     "execution_count": 3,
     "metadata": {},
     "output_type": "execute_result"
    }
   ],
   "source": [
    "df_copy"
   ]
  },
  {
   "cell_type": "code",
   "execution_count": 4,
   "metadata": {},
   "outputs": [],
   "source": [
    "df_feature = df_copy.sample(frac=0.1, random_state=42)"
   ]
  },
  {
   "cell_type": "code",
   "execution_count": 5,
   "metadata": {},
   "outputs": [
    {
     "data": {
      "text/plain": [
       "(20953, 6)"
      ]
     },
     "execution_count": 5,
     "metadata": {},
     "output_type": "execute_result"
    }
   ],
   "source": [
    "df_feature.shape"
   ]
  },
  {
   "cell_type": "code",
   "execution_count": 6,
   "metadata": {},
   "outputs": [
    {
     "name": "stdout",
     "output_type": "stream",
     "text": [
      "<class 'pandas.core.frame.DataFrame'>\n",
      "Int64Index: 20953 entries, 128310 to 423\n",
      "Data columns (total 6 columns):\n",
      " #   Column             Non-Null Count  Dtype         \n",
      "---  ------             --------------  -----         \n",
      " 0   link               20953 non-null  object        \n",
      " 1   headline           20953 non-null  object        \n",
      " 2   category           20953 non-null  object        \n",
      " 3   short_description  20953 non-null  object        \n",
      " 4   authors            20953 non-null  object        \n",
      " 5   date               20953 non-null  datetime64[ns]\n",
      "dtypes: datetime64[ns](1), object(5)\n",
      "memory usage: 1.1+ MB\n"
     ]
    }
   ],
   "source": [
    "df_feature.info()"
   ]
  },
  {
   "cell_type": "code",
   "execution_count": 7,
   "metadata": {},
   "outputs": [
    {
     "data": {
      "text/plain": [
       "(20953, 6)"
      ]
     },
     "execution_count": 7,
     "metadata": {},
     "output_type": "execute_result"
    }
   ],
   "source": [
    "df_feature.shape"
   ]
  },
  {
   "cell_type": "code",
   "execution_count": 8,
   "metadata": {},
   "outputs": [
    {
     "data": {
      "text/plain": [
       "array(['IMPACT', 'BUSINESS', 'POLITICS', 'GREEN', 'SCIENCE', 'PARENTING',\n",
       "       'WELLNESS', 'STYLE & BEAUTY', 'QUEER VOICES', 'EDUCATION',\n",
       "       'BLACK VOICES', 'TRAVEL', 'DIVORCE', 'HEALTHY LIVING', 'TASTE',\n",
       "       'THE WORLDPOST', 'COMEDY', 'WORLDPOST', 'ENTERTAINMENT', 'STYLE',\n",
       "       'FOOD & DRINK', 'HOME & LIVING', 'GOOD NEWS', 'MEDIA', 'SPORTS',\n",
       "       'CRIME', 'MONEY', 'WORLD NEWS', 'COLLEGE', 'RELIGION', 'WOMEN',\n",
       "       'PARENTS', 'ARTS', 'ARTS & CULTURE', 'ENVIRONMENT', 'WEDDINGS',\n",
       "       'U.S. NEWS', 'TECH', 'LATINO VOICES', 'WEIRD NEWS',\n",
       "       'CULTURE & ARTS', 'FIFTY'], dtype=object)"
      ]
     },
     "execution_count": 8,
     "metadata": {},
     "output_type": "execute_result"
    }
   ],
   "source": [
    "df_feature['category'].unique()"
   ]
  },
  {
   "cell_type": "code",
   "execution_count": 9,
   "metadata": {},
   "outputs": [
    {
     "data": {
      "text/plain": [
       "link                 0\n",
       "headline             0\n",
       "category             0\n",
       "short_description    0\n",
       "authors              0\n",
       "date                 0\n",
       "dtype: int64"
      ]
     },
     "execution_count": 9,
     "metadata": {},
     "output_type": "execute_result"
    }
   ],
   "source": [
    "df_feature.isnull().sum()"
   ]
  },
  {
   "cell_type": "code",
   "execution_count": 10,
   "metadata": {},
   "outputs": [
    {
     "data": {
      "text/plain": [
       "array(['Matt Murrie, ContributorEdupreneur, Cofounder/Chief Curiosity Curator of What If...?',\n",
       "       '', 'Michael McLaughlin & Josh Morgan, The Huffington Post', ...,\n",
       "       'Adelle M. Banks, Religion News Service',\n",
       "       'Trip.com, ContributorTrip.com makes adventure less work and more fun',\n",
       "       'Rebecca Rovenstine'], dtype=object)"
      ]
     },
     "execution_count": 10,
     "metadata": {},
     "output_type": "execute_result"
    }
   ],
   "source": [
    "df_feature['authors'].unique()"
   ]
  },
  {
   "cell_type": "code",
   "execution_count": 11,
   "metadata": {},
   "outputs": [],
   "source": [
    "import re\n",
    "import string\n",
    "\n",
    "def preprocess_text(text):\n",
    "    # Convert text to lowercase\n",
    "    text = text.lower()\n",
    "    \n",
    "    # Remove punctuation\n",
    "    text = text.translate(str.maketrans(\"\", \"\", string.punctuation))\n",
    "    \n",
    "    # Remove numbers\n",
    "    text = re.sub(r'\\d+', '', text)\n",
    "    \n",
    "    # Remove extra whitespaces\n",
    "    text = re.sub(r'\\s+', ' ', text).strip()\n",
    "    \n",
    "    # Apply any additional preprocessing steps as needed\n",
    "    \n",
    "    return text"
   ]
  },
  {
   "cell_type": "code",
   "execution_count": 12,
   "metadata": {},
   "outputs": [],
   "source": [
    "df_feature['headline'] = df_feature['headline'].apply(preprocess_text)"
   ]
  },
  {
   "cell_type": "code",
   "execution_count": 13,
   "metadata": {},
   "outputs": [],
   "source": [
    "df_feature['short_description'] = df_feature['short_description'].apply(preprocess_text)"
   ]
  },
  {
   "cell_type": "code",
   "execution_count": 14,
   "metadata": {},
   "outputs": [],
   "source": [
    "from sklearn.feature_extraction.text import TfidfVectorizer"
   ]
  },
  {
   "cell_type": "code",
   "execution_count": 15,
   "metadata": {},
   "outputs": [],
   "source": [
    "vectorizer = TfidfVectorizer()\n",
    "\n",
    "vectorizer.fit(df_feature['headline'])\n",
    "\n",
    "# Transform the data\n",
    "features = vectorizer.transform(df_feature['headline'])\n",
    "df_feature['headline'] = features.toarray()"
   ]
  },
  {
   "cell_type": "code",
   "execution_count": 16,
   "metadata": {},
   "outputs": [],
   "source": [
    "vectorizer = TfidfVectorizer()\n",
    "\n",
    "vectorizer.fit(df_feature['short_description'])\n",
    "\n",
    "# Transform the data\n",
    "features = vectorizer.transform(df_feature['short_description'])\n",
    "df_feature['short_description'] = features.toarray()"
   ]
  },
  {
   "cell_type": "code",
   "execution_count": 17,
   "metadata": {},
   "outputs": [
    {
     "data": {
      "text/html": [
       "<div>\n",
       "<style scoped>\n",
       "    .dataframe tbody tr th:only-of-type {\n",
       "        vertical-align: middle;\n",
       "    }\n",
       "\n",
       "    .dataframe tbody tr th {\n",
       "        vertical-align: top;\n",
       "    }\n",
       "\n",
       "    .dataframe thead th {\n",
       "        text-align: right;\n",
       "    }\n",
       "</style>\n",
       "<table border=\"1\" class=\"dataframe\">\n",
       "  <thead>\n",
       "    <tr style=\"text-align: right;\">\n",
       "      <th></th>\n",
       "      <th>link</th>\n",
       "      <th>headline</th>\n",
       "      <th>category</th>\n",
       "      <th>short_description</th>\n",
       "      <th>authors</th>\n",
       "      <th>date</th>\n",
       "    </tr>\n",
       "  </thead>\n",
       "  <tbody>\n",
       "    <tr>\n",
       "      <th>128310</th>\n",
       "      <td>https://www.huffingtonpost.com/entry/what-if-w...</td>\n",
       "      <td>0.0</td>\n",
       "      <td>IMPACT</td>\n",
       "      <td>0.0</td>\n",
       "      <td>Matt Murrie, ContributorEdupreneur, Cofounder/...</td>\n",
       "      <td>2014-06-20</td>\n",
       "    </tr>\n",
       "    <tr>\n",
       "      <th>139983</th>\n",
       "      <td>https://www.huffingtonpost.comhttp://www.washi...</td>\n",
       "      <td>0.0</td>\n",
       "      <td>BUSINESS</td>\n",
       "      <td>0.0</td>\n",
       "      <td></td>\n",
       "      <td>2014-02-08</td>\n",
       "    </tr>\n",
       "    <tr>\n",
       "      <th>42339</th>\n",
       "      <td>https://www.huffingtonpost.com/entry/time-runs...</td>\n",
       "      <td>0.0</td>\n",
       "      <td>POLITICS</td>\n",
       "      <td>0.0</td>\n",
       "      <td>Michael McLaughlin &amp; Josh Morgan, The Huffingt...</td>\n",
       "      <td>2017-02-22</td>\n",
       "    </tr>\n",
       "    <tr>\n",
       "      <th>131494</th>\n",
       "      <td>https://www.huffingtonpost.com/entry/one-glimp...</td>\n",
       "      <td>0.0</td>\n",
       "      <td>GREEN</td>\n",
       "      <td>0.0</td>\n",
       "      <td></td>\n",
       "      <td>2014-05-14</td>\n",
       "    </tr>\n",
       "    <tr>\n",
       "      <th>163649</th>\n",
       "      <td>https://www.huffingtonpost.com/entry/mens-swea...</td>\n",
       "      <td>0.0</td>\n",
       "      <td>SCIENCE</td>\n",
       "      <td>0.0</td>\n",
       "      <td>Melissa Cronin</td>\n",
       "      <td>2013-06-02</td>\n",
       "    </tr>\n",
       "  </tbody>\n",
       "</table>\n",
       "</div>"
      ],
      "text/plain": [
       "                                                     link  headline  category  \\\n",
       "128310  https://www.huffingtonpost.com/entry/what-if-w...       0.0    IMPACT   \n",
       "139983  https://www.huffingtonpost.comhttp://www.washi...       0.0  BUSINESS   \n",
       "42339   https://www.huffingtonpost.com/entry/time-runs...       0.0  POLITICS   \n",
       "131494  https://www.huffingtonpost.com/entry/one-glimp...       0.0     GREEN   \n",
       "163649  https://www.huffingtonpost.com/entry/mens-swea...       0.0   SCIENCE   \n",
       "\n",
       "        short_description                                            authors  \\\n",
       "128310                0.0  Matt Murrie, ContributorEdupreneur, Cofounder/...   \n",
       "139983                0.0                                                      \n",
       "42339                 0.0  Michael McLaughlin & Josh Morgan, The Huffingt...   \n",
       "131494                0.0                                                      \n",
       "163649                0.0                                     Melissa Cronin   \n",
       "\n",
       "             date  \n",
       "128310 2014-06-20  \n",
       "139983 2014-02-08  \n",
       "42339  2017-02-22  \n",
       "131494 2014-05-14  \n",
       "163649 2013-06-02  "
      ]
     },
     "execution_count": 17,
     "metadata": {},
     "output_type": "execute_result"
    }
   ],
   "source": [
    "df_feature.head()"
   ]
  },
  {
   "cell_type": "code",
   "execution_count": 18,
   "metadata": {},
   "outputs": [],
   "source": [
    "from urllib.parse import urlparse"
   ]
  },
  {
   "cell_type": "code",
   "execution_count": 19,
   "metadata": {},
   "outputs": [],
   "source": [
    "df_feature['Domain'] = df_feature['link'].apply(lambda x: urlparse(x).netloc)\n",
    "df_feature['Path'] = df_feature['link'].apply(lambda x: urlparse(x).path)"
   ]
  },
  {
   "cell_type": "code",
   "execution_count": 20,
   "metadata": {},
   "outputs": [
    {
     "data": {
      "text/plain": [
       "array(['www.huffingtonpost.com', 'www.huffingtonpost.comhttp:',\n",
       "       'www.huffpost.com', 'www.huffingtonpost.comhttps:'], dtype=object)"
      ]
     },
     "execution_count": 20,
     "metadata": {},
     "output_type": "execute_result"
    }
   ],
   "source": [
    "df_feature['Domain'].unique()"
   ]
  },
  {
   "cell_type": "code",
   "execution_count": 21,
   "metadata": {},
   "outputs": [
    {
     "data": {
      "text/plain": [
       "array(['/entry/what-if-we-were-all-famil_b_5510958.html',\n",
       "       '//www.washingtonpost.com/business/economy/aol-chief-ignites-firestorm-over-401k-cuts-and-distressed-babies-remark/2014/02/07/2116c03a-9012-11e3-b227-12a45d109e03_story.html',\n",
       "       '/entry/time-runs-out-at-main-dakota-access-pipeline-protest-camp_us_58acc6a9e4b04a0b274df548',\n",
       "       ...,\n",
       "       '/entry/dennis-adams-wife-nude-photos_us_5683fc63e4b0b958f65ae583',\n",
       "       '/entry/cooking-off-the-cuff-a-free-form-apple-pie_us_5b9db04ae4b03a1dcc8b839f',\n",
       "       '/entry/jello-skin-tiktok_l_62b5bc22e4b04a6173695b03'],\n",
       "      dtype=object)"
      ]
     },
     "execution_count": 21,
     "metadata": {},
     "output_type": "execute_result"
    }
   ],
   "source": [
    "df_feature['Path'].unique()"
   ]
  },
  {
   "cell_type": "code",
   "execution_count": 22,
   "metadata": {},
   "outputs": [
    {
     "data": {
      "text/plain": [
       "20952"
      ]
     },
     "execution_count": 22,
     "metadata": {},
     "output_type": "execute_result"
    }
   ],
   "source": [
    "len(df_feature['Path'].unique())"
   ]
  },
  {
   "cell_type": "code",
   "execution_count": 23,
   "metadata": {},
   "outputs": [],
   "source": [
    "df_feature.drop('link',axis=1,inplace=True)"
   ]
  },
  {
   "cell_type": "code",
   "execution_count": 24,
   "metadata": {},
   "outputs": [],
   "source": [
    "df_feature['Path'] = df_feature['Path'].apply(preprocess_text)"
   ]
  },
  {
   "cell_type": "code",
   "execution_count": 25,
   "metadata": {},
   "outputs": [
    {
     "data": {
      "text/html": [
       "<div>\n",
       "<style scoped>\n",
       "    .dataframe tbody tr th:only-of-type {\n",
       "        vertical-align: middle;\n",
       "    }\n",
       "\n",
       "    .dataframe tbody tr th {\n",
       "        vertical-align: top;\n",
       "    }\n",
       "\n",
       "    .dataframe thead th {\n",
       "        text-align: right;\n",
       "    }\n",
       "</style>\n",
       "<table border=\"1\" class=\"dataframe\">\n",
       "  <thead>\n",
       "    <tr style=\"text-align: right;\">\n",
       "      <th></th>\n",
       "      <th>headline</th>\n",
       "      <th>category</th>\n",
       "      <th>short_description</th>\n",
       "      <th>authors</th>\n",
       "      <th>date</th>\n",
       "      <th>Domain</th>\n",
       "      <th>Path</th>\n",
       "    </tr>\n",
       "  </thead>\n",
       "  <tbody>\n",
       "    <tr>\n",
       "      <th>128310</th>\n",
       "      <td>0.0</td>\n",
       "      <td>IMPACT</td>\n",
       "      <td>0.0</td>\n",
       "      <td>Matt Murrie, ContributorEdupreneur, Cofounder/...</td>\n",
       "      <td>2014-06-20</td>\n",
       "      <td>www.huffingtonpost.com</td>\n",
       "      <td>entrywhatifwewereallfamilbhtml</td>\n",
       "    </tr>\n",
       "    <tr>\n",
       "      <th>139983</th>\n",
       "      <td>0.0</td>\n",
       "      <td>BUSINESS</td>\n",
       "      <td>0.0</td>\n",
       "      <td></td>\n",
       "      <td>2014-02-08</td>\n",
       "      <td>www.huffingtonpost.comhttp:</td>\n",
       "      <td>wwwwashingtonpostcombusinesseconomyaolchiefign...</td>\n",
       "    </tr>\n",
       "    <tr>\n",
       "      <th>42339</th>\n",
       "      <td>0.0</td>\n",
       "      <td>POLITICS</td>\n",
       "      <td>0.0</td>\n",
       "      <td>Michael McLaughlin &amp; Josh Morgan, The Huffingt...</td>\n",
       "      <td>2017-02-22</td>\n",
       "      <td>www.huffingtonpost.com</td>\n",
       "      <td>entrytimerunsoutatmaindakotaaccesspipelineprot...</td>\n",
       "    </tr>\n",
       "    <tr>\n",
       "      <th>131494</th>\n",
       "      <td>0.0</td>\n",
       "      <td>GREEN</td>\n",
       "      <td>0.0</td>\n",
       "      <td></td>\n",
       "      <td>2014-05-14</td>\n",
       "      <td>www.huffingtonpost.com</td>\n",
       "      <td>entryoneglimpseofthesebabynhtml</td>\n",
       "    </tr>\n",
       "    <tr>\n",
       "      <th>163649</th>\n",
       "      <td>0.0</td>\n",
       "      <td>SCIENCE</td>\n",
       "      <td>0.0</td>\n",
       "      <td>Melissa Cronin</td>\n",
       "      <td>2013-06-02</td>\n",
       "      <td>www.huffingtonpost.com</td>\n",
       "      <td>entrymenssweatpheromonecooperationusbaebfebeeae</td>\n",
       "    </tr>\n",
       "  </tbody>\n",
       "</table>\n",
       "</div>"
      ],
      "text/plain": [
       "        headline  category  short_description  \\\n",
       "128310       0.0    IMPACT                0.0   \n",
       "139983       0.0  BUSINESS                0.0   \n",
       "42339        0.0  POLITICS                0.0   \n",
       "131494       0.0     GREEN                0.0   \n",
       "163649       0.0   SCIENCE                0.0   \n",
       "\n",
       "                                                  authors       date  \\\n",
       "128310  Matt Murrie, ContributorEdupreneur, Cofounder/... 2014-06-20   \n",
       "139983                                                    2014-02-08   \n",
       "42339   Michael McLaughlin & Josh Morgan, The Huffingt... 2017-02-22   \n",
       "131494                                                    2014-05-14   \n",
       "163649                                     Melissa Cronin 2013-06-02   \n",
       "\n",
       "                             Domain  \\\n",
       "128310       www.huffingtonpost.com   \n",
       "139983  www.huffingtonpost.comhttp:   \n",
       "42339        www.huffingtonpost.com   \n",
       "131494       www.huffingtonpost.com   \n",
       "163649       www.huffingtonpost.com   \n",
       "\n",
       "                                                     Path  \n",
       "128310                     entrywhatifwewereallfamilbhtml  \n",
       "139983  wwwwashingtonpostcombusinesseconomyaolchiefign...  \n",
       "42339   entrytimerunsoutatmaindakotaaccesspipelineprot...  \n",
       "131494                    entryoneglimpseofthesebabynhtml  \n",
       "163649    entrymenssweatpheromonecooperationusbaebfebeeae  "
      ]
     },
     "execution_count": 25,
     "metadata": {},
     "output_type": "execute_result"
    }
   ],
   "source": [
    "df_feature.head()"
   ]
  },
  {
   "cell_type": "code",
   "execution_count": 26,
   "metadata": {},
   "outputs": [
    {
     "data": {
      "text/plain": [
       "array(['entrywhatifwewereallfamilbhtml',\n",
       "       'wwwwashingtonpostcombusinesseconomyaolchiefignitesfirestormoverkcutsanddistressedbabiesremarkcaebadestoryhtml',\n",
       "       'entrytimerunsoutatmaindakotaaccesspipelineprotestcampusaccaebabdf',\n",
       "       ..., 'entrydennisadamswifenudephotosusfcebbfae',\n",
       "       'entrycookingoffthecuffafreeformapplepieusbdbaebadccbf',\n",
       "       'entryjelloskintiktoklbbcebab'], dtype=object)"
      ]
     },
     "execution_count": 26,
     "metadata": {},
     "output_type": "execute_result"
    }
   ],
   "source": [
    "df_feature['Path'].unique()"
   ]
  },
  {
   "cell_type": "code",
   "execution_count": 27,
   "metadata": {},
   "outputs": [
    {
     "data": {
      "text/plain": [
       "array(['Matt Murrie, ContributorEdupreneur, Cofounder/Chief Curiosity Curator of What If...?',\n",
       "       '', 'Michael McLaughlin & Josh Morgan, The Huffington Post', ...,\n",
       "       'Adelle M. Banks, Religion News Service',\n",
       "       'Trip.com, ContributorTrip.com makes adventure less work and more fun',\n",
       "       'Rebecca Rovenstine'], dtype=object)"
      ]
     },
     "execution_count": 27,
     "metadata": {},
     "output_type": "execute_result"
    }
   ],
   "source": [
    "df_feature['authors'].unique()"
   ]
  },
  {
   "cell_type": "code",
   "execution_count": 28,
   "metadata": {},
   "outputs": [
    {
     "data": {
      "text/plain": [
       "6162"
      ]
     },
     "execution_count": 28,
     "metadata": {},
     "output_type": "execute_result"
    }
   ],
   "source": [
    "len(df_feature['authors'].unique())"
   ]
  },
  {
   "cell_type": "code",
   "execution_count": 29,
   "metadata": {},
   "outputs": [],
   "source": [
    "from sklearn.preprocessing import LabelEncoder\n",
    "\n",
    "# Create an instance of LabelEncoder\n",
    "label_encoder = LabelEncoder()\n",
    "\n",
    "# Fit and transform the data\n",
    "df_feature['authors'] = label_encoder.fit_transform(df_feature['authors'])"
   ]
  },
  {
   "cell_type": "code",
   "execution_count": 30,
   "metadata": {},
   "outputs": [],
   "source": [
    "vectorizer = TfidfVectorizer()\n",
    "\n",
    "vectorizer.fit(df_feature['Path'])\n",
    "\n",
    "# Transform the data\n",
    "features = vectorizer.transform(df_feature['Path'])\n",
    "df_feature['Path'] = features.toarray()"
   ]
  },
  {
   "cell_type": "code",
   "execution_count": 31,
   "metadata": {},
   "outputs": [
    {
     "data": {
      "text/plain": [
       "array(['IMPACT', 'BUSINESS', 'POLITICS', 'GREEN', 'SCIENCE', 'PARENTING',\n",
       "       'WELLNESS', 'STYLE & BEAUTY', 'QUEER VOICES', 'EDUCATION',\n",
       "       'BLACK VOICES', 'TRAVEL', 'DIVORCE', 'HEALTHY LIVING', 'TASTE',\n",
       "       'THE WORLDPOST', 'COMEDY', 'WORLDPOST', 'ENTERTAINMENT', 'STYLE',\n",
       "       'FOOD & DRINK', 'HOME & LIVING', 'GOOD NEWS', 'MEDIA', 'SPORTS',\n",
       "       'CRIME', 'MONEY', 'WORLD NEWS', 'COLLEGE', 'RELIGION', 'WOMEN',\n",
       "       'PARENTS', 'ARTS', 'ARTS & CULTURE', 'ENVIRONMENT', 'WEDDINGS',\n",
       "       'U.S. NEWS', 'TECH', 'LATINO VOICES', 'WEIRD NEWS',\n",
       "       'CULTURE & ARTS', 'FIFTY'], dtype=object)"
      ]
     },
     "execution_count": 31,
     "metadata": {},
     "output_type": "execute_result"
    }
   ],
   "source": [
    "df_feature['category'].unique()"
   ]
  },
  {
   "cell_type": "code",
   "execution_count": 32,
   "metadata": {},
   "outputs": [
    {
     "data": {
      "text/plain": [
       "42"
      ]
     },
     "execution_count": 32,
     "metadata": {},
     "output_type": "execute_result"
    }
   ],
   "source": [
    "len(df_feature['category'].unique())"
   ]
  },
  {
   "cell_type": "code",
   "execution_count": 33,
   "metadata": {},
   "outputs": [],
   "source": [
    "category_map = {'U.S. NEWS':1, 'COMEDY':2, 'PARENTING':3, 'WORLD NEWS':4, 'CULTURE & ARTS':5,\n",
    "       'TECH':6, 'SPORTS':7, 'ENTERTAINMENT':8, 'POLITICS':9, 'WEIRD NEWS':10,\n",
    "       'ENVIRONMENT':11, 'EDUCATION':12, 'CRIME':13, 'SCIENCE':14, 'WELLNESS':15,\n",
    "       'BUSINESS':16, 'STYLE & BEAUTY':17, 'FOOD & DRINK':18, 'MEDIA':19,\n",
    "       'QUEER VOICES':20, 'HOME & LIVING':21, 'WOMEN':22, 'BLACK VOICES':23, 'TRAVEL':24,\n",
    "       'MONEY':25, 'RELIGION':26, 'LATINO VOICES':27, 'IMPACT':28, 'WEDDINGS':29,\n",
    "       'COLLEGE':30, 'PARENTS':31, 'ARTS & CULTURE':32, 'STYLE':33, 'GREEN':34, 'TASTE':35,\n",
    "       'HEALTHY LIVING':36, 'THE WORLDPOST':37, 'GOOD NEWS':38, 'WORLDPOST':38,\n",
    "       'FIFTY':39, 'ARTS':40, 'DIVORCE':41}\n",
    "\n",
    "df_feature['category'] = df_feature['category'].map(category_map)"
   ]
  },
  {
   "cell_type": "code",
   "execution_count": 34,
   "metadata": {},
   "outputs": [
    {
     "data": {
      "text/plain": [
       "array([28, 16,  9, 34, 14,  3, 15, 17, 20, 12, 23, 24, 41, 36, 35, 37,  2,\n",
       "       38,  8, 33, 18, 21, 19,  7, 13, 25,  4, 30, 26, 22, 31, 40, 32, 11,\n",
       "       29,  1,  6, 27, 10,  5, 39], dtype=int64)"
      ]
     },
     "execution_count": 34,
     "metadata": {},
     "output_type": "execute_result"
    }
   ],
   "source": [
    "df_feature['category'].unique()"
   ]
  },
  {
   "cell_type": "code",
   "execution_count": 35,
   "metadata": {},
   "outputs": [
    {
     "data": {
      "text/html": [
       "<div>\n",
       "<style scoped>\n",
       "    .dataframe tbody tr th:only-of-type {\n",
       "        vertical-align: middle;\n",
       "    }\n",
       "\n",
       "    .dataframe tbody tr th {\n",
       "        vertical-align: top;\n",
       "    }\n",
       "\n",
       "    .dataframe thead th {\n",
       "        text-align: right;\n",
       "    }\n",
       "</style>\n",
       "<table border=\"1\" class=\"dataframe\">\n",
       "  <thead>\n",
       "    <tr style=\"text-align: right;\">\n",
       "      <th></th>\n",
       "      <th>headline</th>\n",
       "      <th>category</th>\n",
       "      <th>short_description</th>\n",
       "      <th>authors</th>\n",
       "      <th>date</th>\n",
       "      <th>Domain</th>\n",
       "      <th>Path</th>\n",
       "    </tr>\n",
       "  </thead>\n",
       "  <tbody>\n",
       "    <tr>\n",
       "      <th>128310</th>\n",
       "      <td>0.0</td>\n",
       "      <td>28</td>\n",
       "      <td>0.0</td>\n",
       "      <td>3990</td>\n",
       "      <td>2014-06-20</td>\n",
       "      <td>www.huffingtonpost.com</td>\n",
       "      <td>0.0</td>\n",
       "    </tr>\n",
       "    <tr>\n",
       "      <th>139983</th>\n",
       "      <td>0.0</td>\n",
       "      <td>16</td>\n",
       "      <td>0.0</td>\n",
       "      <td>0</td>\n",
       "      <td>2014-02-08</td>\n",
       "      <td>www.huffingtonpost.comhttp:</td>\n",
       "      <td>0.0</td>\n",
       "    </tr>\n",
       "    <tr>\n",
       "      <th>42339</th>\n",
       "      <td>0.0</td>\n",
       "      <td>9</td>\n",
       "      <td>0.0</td>\n",
       "      <td>4162</td>\n",
       "      <td>2017-02-22</td>\n",
       "      <td>www.huffingtonpost.com</td>\n",
       "      <td>0.0</td>\n",
       "    </tr>\n",
       "    <tr>\n",
       "      <th>131494</th>\n",
       "      <td>0.0</td>\n",
       "      <td>34</td>\n",
       "      <td>0.0</td>\n",
       "      <td>0</td>\n",
       "      <td>2014-05-14</td>\n",
       "      <td>www.huffingtonpost.com</td>\n",
       "      <td>0.0</td>\n",
       "    </tr>\n",
       "    <tr>\n",
       "      <th>163649</th>\n",
       "      <td>0.0</td>\n",
       "      <td>14</td>\n",
       "      <td>0.0</td>\n",
       "      <td>4073</td>\n",
       "      <td>2013-06-02</td>\n",
       "      <td>www.huffingtonpost.com</td>\n",
       "      <td>0.0</td>\n",
       "    </tr>\n",
       "  </tbody>\n",
       "</table>\n",
       "</div>"
      ],
      "text/plain": [
       "        headline  category  short_description  authors       date  \\\n",
       "128310       0.0        28                0.0     3990 2014-06-20   \n",
       "139983       0.0        16                0.0        0 2014-02-08   \n",
       "42339        0.0         9                0.0     4162 2017-02-22   \n",
       "131494       0.0        34                0.0        0 2014-05-14   \n",
       "163649       0.0        14                0.0     4073 2013-06-02   \n",
       "\n",
       "                             Domain  Path  \n",
       "128310       www.huffingtonpost.com   0.0  \n",
       "139983  www.huffingtonpost.comhttp:   0.0  \n",
       "42339        www.huffingtonpost.com   0.0  \n",
       "131494       www.huffingtonpost.com   0.0  \n",
       "163649       www.huffingtonpost.com   0.0  "
      ]
     },
     "execution_count": 35,
     "metadata": {},
     "output_type": "execute_result"
    }
   ],
   "source": [
    "df_feature.head()"
   ]
  },
  {
   "cell_type": "code",
   "execution_count": 36,
   "metadata": {},
   "outputs": [],
   "source": [
    "domain_map = {'www.huffpost.com':1, 'www.huffingtonpost.in':2,\n",
    "       'www.huffingtonpost.com':3, 'www.huffingtonpost.comhttps:':4,\n",
    "       'www.huffingtonpost.comhttp:':5}\n",
    "\n",
    "df_feature['Domain'] = df_feature['Domain'].map(domain_map)"
   ]
  },
  {
   "cell_type": "code",
   "execution_count": null,
   "metadata": {},
   "outputs": [
    {
     "data": {
      "text/html": [
       "<div>\n",
       "<style scoped>\n",
       "    .dataframe tbody tr th:only-of-type {\n",
       "        vertical-align: middle;\n",
       "    }\n",
       "\n",
       "    .dataframe tbody tr th {\n",
       "        vertical-align: top;\n",
       "    }\n",
       "\n",
       "    .dataframe thead th {\n",
       "        text-align: right;\n",
       "    }\n",
       "</style>\n",
       "<table border=\"1\" class=\"dataframe\">\n",
       "  <thead>\n",
       "    <tr style=\"text-align: right;\">\n",
       "      <th></th>\n",
       "      <th>headline</th>\n",
       "      <th>category</th>\n",
       "      <th>short_description</th>\n",
       "      <th>authors</th>\n",
       "      <th>date</th>\n",
       "      <th>Domain</th>\n",
       "      <th>Path</th>\n",
       "    </tr>\n",
       "  </thead>\n",
       "  <tbody>\n",
       "    <tr>\n",
       "      <th>128310</th>\n",
       "      <td>0.0</td>\n",
       "      <td>28</td>\n",
       "      <td>0.0</td>\n",
       "      <td>3990</td>\n",
       "      <td>2014-06-20</td>\n",
       "      <td>3</td>\n",
       "      <td>18911</td>\n",
       "    </tr>\n",
       "    <tr>\n",
       "      <th>139983</th>\n",
       "      <td>0.0</td>\n",
       "      <td>16</td>\n",
       "      <td>0.0</td>\n",
       "      <td>0</td>\n",
       "      <td>2014-02-08</td>\n",
       "      <td>5</td>\n",
       "      <td>20785</td>\n",
       "    </tr>\n",
       "    <tr>\n",
       "      <th>42339</th>\n",
       "      <td>0.0</td>\n",
       "      <td>9</td>\n",
       "      <td>0.0</td>\n",
       "      <td>4162</td>\n",
       "      <td>2017-02-22</td>\n",
       "      <td>3</td>\n",
       "      <td>17207</td>\n",
       "    </tr>\n",
       "    <tr>\n",
       "      <th>131494</th>\n",
       "      <td>0.0</td>\n",
       "      <td>34</td>\n",
       "      <td>0.0</td>\n",
       "      <td>0</td>\n",
       "      <td>2014-05-14</td>\n",
       "      <td>3</td>\n",
       "      <td>12474</td>\n",
       "    </tr>\n",
       "    <tr>\n",
       "      <th>163649</th>\n",
       "      <td>0.0</td>\n",
       "      <td>14</td>\n",
       "      <td>0.0</td>\n",
       "      <td>4073</td>\n",
       "      <td>2013-06-02</td>\n",
       "      <td>3</td>\n",
       "      <td>10795</td>\n",
       "    </tr>\n",
       "  </tbody>\n",
       "</table>\n",
       "</div>"
      ],
      "text/plain": [
       "        headline  category  short_description  authors       date  Domain  \\\n",
       "128310       0.0        28                0.0     3990 2014-06-20       3   \n",
       "139983       0.0        16                0.0        0 2014-02-08       5   \n",
       "42339        0.0         9                0.0     4162 2017-02-22       3   \n",
       "131494       0.0        34                0.0        0 2014-05-14       3   \n",
       "163649       0.0        14                0.0     4073 2013-06-02       3   \n",
       "\n",
       "         Path  \n",
       "128310  18911  \n",
       "139983  20785  \n",
       "42339   17207  \n",
       "131494  12474  \n",
       "163649  10795  "
      ]
     },
     "execution_count": 46,
     "metadata": {},
     "output_type": "execute_result"
    }
   ],
   "source": [
    "df_feature.head()"
   ]
  },
  {
   "cell_type": "code",
   "execution_count": 38,
   "metadata": {},
   "outputs": [],
   "source": [
    "df_feature['month'] = df_feature['date'].dt.month\n",
    "df_feature['year'] = df_feature['date'].dt.year\n",
    "df_feature['day'] = df_feature['date'].dt.day"
   ]
  },
  {
   "cell_type": "code",
   "execution_count": 39,
   "metadata": {},
   "outputs": [],
   "source": [
    "df_feature.drop('date',axis=1,inplace=True)"
   ]
  },
  {
   "cell_type": "code",
   "execution_count": 40,
   "metadata": {},
   "outputs": [
    {
     "data": {
      "text/html": [
       "<div>\n",
       "<style scoped>\n",
       "    .dataframe tbody tr th:only-of-type {\n",
       "        vertical-align: middle;\n",
       "    }\n",
       "\n",
       "    .dataframe tbody tr th {\n",
       "        vertical-align: top;\n",
       "    }\n",
       "\n",
       "    .dataframe thead th {\n",
       "        text-align: right;\n",
       "    }\n",
       "</style>\n",
       "<table border=\"1\" class=\"dataframe\">\n",
       "  <thead>\n",
       "    <tr style=\"text-align: right;\">\n",
       "      <th></th>\n",
       "      <th>headline</th>\n",
       "      <th>category</th>\n",
       "      <th>short_description</th>\n",
       "      <th>authors</th>\n",
       "      <th>Domain</th>\n",
       "      <th>Path</th>\n",
       "      <th>month</th>\n",
       "      <th>year</th>\n",
       "      <th>day</th>\n",
       "    </tr>\n",
       "  </thead>\n",
       "  <tbody>\n",
       "    <tr>\n",
       "      <th>128310</th>\n",
       "      <td>0.0</td>\n",
       "      <td>28</td>\n",
       "      <td>0.0</td>\n",
       "      <td>3990</td>\n",
       "      <td>3</td>\n",
       "      <td>0.0</td>\n",
       "      <td>6</td>\n",
       "      <td>2014</td>\n",
       "      <td>20</td>\n",
       "    </tr>\n",
       "    <tr>\n",
       "      <th>139983</th>\n",
       "      <td>0.0</td>\n",
       "      <td>16</td>\n",
       "      <td>0.0</td>\n",
       "      <td>0</td>\n",
       "      <td>5</td>\n",
       "      <td>0.0</td>\n",
       "      <td>2</td>\n",
       "      <td>2014</td>\n",
       "      <td>8</td>\n",
       "    </tr>\n",
       "    <tr>\n",
       "      <th>42339</th>\n",
       "      <td>0.0</td>\n",
       "      <td>9</td>\n",
       "      <td>0.0</td>\n",
       "      <td>4162</td>\n",
       "      <td>3</td>\n",
       "      <td>0.0</td>\n",
       "      <td>2</td>\n",
       "      <td>2017</td>\n",
       "      <td>22</td>\n",
       "    </tr>\n",
       "    <tr>\n",
       "      <th>131494</th>\n",
       "      <td>0.0</td>\n",
       "      <td>34</td>\n",
       "      <td>0.0</td>\n",
       "      <td>0</td>\n",
       "      <td>3</td>\n",
       "      <td>0.0</td>\n",
       "      <td>5</td>\n",
       "      <td>2014</td>\n",
       "      <td>14</td>\n",
       "    </tr>\n",
       "    <tr>\n",
       "      <th>163649</th>\n",
       "      <td>0.0</td>\n",
       "      <td>14</td>\n",
       "      <td>0.0</td>\n",
       "      <td>4073</td>\n",
       "      <td>3</td>\n",
       "      <td>0.0</td>\n",
       "      <td>6</td>\n",
       "      <td>2013</td>\n",
       "      <td>2</td>\n",
       "    </tr>\n",
       "  </tbody>\n",
       "</table>\n",
       "</div>"
      ],
      "text/plain": [
       "        headline  category  short_description  authors  Domain  Path  month  \\\n",
       "128310       0.0        28                0.0     3990       3   0.0      6   \n",
       "139983       0.0        16                0.0        0       5   0.0      2   \n",
       "42339        0.0         9                0.0     4162       3   0.0      2   \n",
       "131494       0.0        34                0.0        0       3   0.0      5   \n",
       "163649       0.0        14                0.0     4073       3   0.0      6   \n",
       "\n",
       "        year  day  \n",
       "128310  2014   20  \n",
       "139983  2014    8  \n",
       "42339   2017   22  \n",
       "131494  2014   14  \n",
       "163649  2013    2  "
      ]
     },
     "execution_count": 40,
     "metadata": {},
     "output_type": "execute_result"
    }
   ],
   "source": [
    "df_feature.head()"
   ]
  },
  {
   "cell_type": "code",
   "execution_count": 41,
   "metadata": {},
   "outputs": [
    {
     "data": {
      "image/png": "[encoded data removed]",
      "text/plain": [
       "<Figure size 3000x1500 with 1 Axes>"
      ]
     },
     "metadata": {},
     "output_type": "display_data"
    }
   ],
   "source": [
    "import matplotlib.pyplot as plt\n",
    "import numpy as np\n",
    "from sklearn.neighbors import NearestNeighbors\n",
    "\n",
    "# Create a NearestNeighbors object with a suitable value for k\n",
    "k = 5\n",
    "knn = NearestNeighbors(n_neighbors=k+1)  # Add 1 to include the point itself\n",
    "\n",
    "# Fit the knn object to the data\n",
    "knn.fit(df_feature)\n",
    "\n",
    "# Compute the distances to the k-nearest neighbors\n",
    "distances, _ = knn.kneighbors(df_feature)\n",
    "\n",
    "# Sort the distances in descending order\n",
    "distances = np.sort(distances[:, k], axis=0)[::-1]\n",
    "\n",
    "# Plot the k-distance graph\n",
    "plt.plot(np.arange(len(distances)), distances)\n",
    "plt.xlabel('Points')\n",
    "plt.ylabel(f'{k}-Distance')\n",
    "plt.title('K-Distance Plot')\n",
    "plt.show()\n"
   ]
  },
  {
   "cell_type": "code",
   "execution_count": 42,
   "metadata": {},
   "outputs": [
    {
     "data": {
      "text/html": [
       "<style>#sk-container-id-1 {color: black;background-color: white;}#sk-container-id-1 pre{padding: 0;}#sk-container-id-1 div.sk-toggleable {background-color: white;}#sk-container-id-1 label.sk-toggleable__label {cursor: pointer;display: block;width: 100%;margin-bottom: 0;padding: 0.3em;box-sizing: border-box;text-align: center;}#sk-container-id-1 label.sk-toggleable__label-arrow:before {content: \"▸\";float: left;margin-right: 0.25em;color: #696969;}#sk-container-id-1 label.sk-toggleable__label-arrow:hover:before {color: black;}#sk-container-id-1 div.sk-estimator:hover label.sk-toggleable__label-arrow:before {color: black;}#sk-container-id-1 div.sk-toggleable__content {max-height: 0;max-width: 0;overflow: hidden;text-align: left;background-color: #f0f8ff;}#sk-container-id-1 div.sk-toggleable__content pre {margin: 0.2em;color: black;border-radius: 0.25em;background-color: #f0f8ff;}#sk-container-id-1 input.sk-toggleable__control:checked~div.sk-toggleable__content {max-height: 200px;max-width: 100%;overflow: auto;}#sk-container-id-1 input.sk-toggleable__control:checked~label.sk-toggleable__label-arrow:before {content: \"▾\";}#sk-container-id-1 div.sk-estimator input.sk-toggleable__control:checked~label.sk-toggleable__label {background-color: #d4ebff;}#sk-container-id-1 div.sk-label input.sk-toggleable__control:checked~label.sk-toggleable__label {background-color: #d4ebff;}#sk-container-id-1 input.sk-hidden--visually {border: 0;clip: rect(1px 1px 1px 1px);clip: rect(1px, 1px, 1px, 1px);height: 1px;margin: -1px;overflow: hidden;padding: 0;position: absolute;width: 1px;}#sk-container-id-1 div.sk-estimator {font-family: monospace;background-color: #f0f8ff;border: 1px dotted black;border-radius: 0.25em;box-sizing: border-box;margin-bottom: 0.5em;}#sk-container-id-1 div.sk-estimator:hover {background-color: #d4ebff;}#sk-container-id-1 div.sk-parallel-item::after {content: \"\";width: 100%;border-bottom: 1px solid gray;flex-grow: 1;}#sk-container-id-1 div.sk-label:hover label.sk-toggleable__label {background-color: #d4ebff;}#sk-container-id-1 div.sk-serial::before {content: \"\";position: absolute;border-left: 1px solid gray;box-sizing: border-box;top: 0;bottom: 0;left: 50%;z-index: 0;}#sk-container-id-1 div.sk-serial {display: flex;flex-direction: column;align-items: center;background-color: white;padding-right: 0.2em;padding-left: 0.2em;position: relative;}#sk-container-id-1 div.sk-item {position: relative;z-index: 1;}#sk-container-id-1 div.sk-parallel {display: flex;align-items: stretch;justify-content: center;background-color: white;position: relative;}#sk-container-id-1 div.sk-item::before, #sk-container-id-1 div.sk-parallel-item::before {content: \"\";position: absolute;border-left: 1px solid gray;box-sizing: border-box;top: 0;bottom: 0;left: 50%;z-index: -1;}#sk-container-id-1 div.sk-parallel-item {display: flex;flex-direction: column;z-index: 1;position: relative;background-color: white;}#sk-container-id-1 div.sk-parallel-item:first-child::after {align-self: flex-end;width: 50%;}#sk-container-id-1 div.sk-parallel-item:last-child::after {align-self: flex-start;width: 50%;}#sk-container-id-1 div.sk-parallel-item:only-child::after {width: 0;}#sk-container-id-1 div.sk-dashed-wrapped {border: 1px dashed gray;margin: 0 0.4em 0.5em 0.4em;box-sizing: border-box;padding-bottom: 0.4em;background-color: white;}#sk-container-id-1 div.sk-label label {font-family: monospace;font-weight: bold;display: inline-block;line-height: 1.2em;}#sk-container-id-1 div.sk-label-container {text-align: center;}#sk-container-id-1 div.sk-container {/* jupyter's `normalize.less` sets `[hidden] { display: none; }` but bootstrap.min.css set `[hidden] { display: none !important; }` so we also need the `!important` here to be able to override the default hidden behavior on the sphinx rendered scikit-learn.org. See: https://github.com/scikit-learn/scikit-learn/issues/21755 */display: inline-block !important;position: relative;}#sk-container-id-1 div.sk-text-repr-fallback {display: none;}</style><div id=\"sk-container-id-1\" class=\"sk-top-container\"><div class=\"sk-text-repr-fallback\"><pre>DBSCAN(eps=15)</pre><b>In a Jupyter environment, please rerun this cell to show the HTML representation or trust the notebook. <br />On GitHub, the HTML representation is unable to render, please try loading this page with nbviewer.org.</b></div><div class=\"sk-container\" hidden><div class=\"sk-item\"><div class=\"sk-estimator sk-toggleable\"><input class=\"sk-toggleable__control sk-hidden--visually\" id=\"sk-estimator-id-1\" type=\"checkbox\" checked><label for=\"sk-estimator-id-1\" class=\"sk-toggleable__label sk-toggleable__label-arrow\">DBSCAN</label><div class=\"sk-toggleable__content\"><pre>DBSCAN(eps=15)</pre></div></div></div></div></div>"
      ],
      "text/plain": [
       "DBSCAN(eps=15)"
      ]
     },
     "execution_count": 42,
     "metadata": {},
     "output_type": "execute_result"
    }
   ],
   "source": [
    "# Import the DBSCAN class from sklearn.cluster\n",
    "from sklearn.cluster import DBSCAN\n",
    "\n",
    "# Create a DBSCAN object with eps=1 and min_samples=5\n",
    "dbscan = DBSCAN(eps=15, min_samples=5)\n",
    "\n",
    "# Fit the DBSCAN object to the data\n",
    "dbscan.fit(df_feature)"
   ]
  },
  {
   "cell_type": "code",
   "execution_count": 43,
   "metadata": {},
   "outputs": [
    {
     "data": {
      "text/plain": [
       "array([0, 0, 0, ..., 0, 0, 0], dtype=int64)"
      ]
     },
     "execution_count": 43,
     "metadata": {},
     "output_type": "execute_result"
    }
   ],
   "source": [
    "dbscan.labels_"
   ]
  },
  {
   "cell_type": "code",
   "execution_count": null,
   "metadata": {},
   "outputs": [],
   "source": []
  },
  {
   "cell_type": "code",
   "execution_count": null,
   "metadata": {},
   "outputs": [],
   "source": []
  },
  {
   "cell_type": "code",
   "execution_count": null,
   "metadata": {},
   "outputs": [],
   "source": []
  },
  {
   "cell_type": "code",
   "execution_count": null,
   "metadata": {},
   "outputs": [],
   "source": []
  },
  {
   "cell_type": "code",
   "execution_count": null,
   "metadata": {},
   "outputs": [],
   "source": []
  },
  {
   "cell_type": "code",
   "execution_count": null,
   "metadata": {},
   "outputs": [],
   "source": []
  }
 ],
 "metadata": {
  "kernelspec": {
   "display_name": "Python 3",
   "language": "python",
   "name": "python3"
  },
  "language_info": {
   "codemirror_mode": {
    "name": "ipython",
    "version": 3
   },
   "file_extension": ".py",
   "mimetype": "text/x-python",
   "name": "python",
   "nbconvert_exporter": "python",
   "pygments_lexer": "ipython3",
   "version": "3.9.11"
  },
  "orig_nbformat": 4
 },
 "nbformat": 4,
 "nbformat_minor": 2
}
